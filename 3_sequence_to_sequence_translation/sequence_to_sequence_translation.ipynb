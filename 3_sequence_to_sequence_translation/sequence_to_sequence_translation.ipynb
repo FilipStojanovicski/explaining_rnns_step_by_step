{
 "cells": [
  {
   "cell_type": "markdown",
   "id": "3a94b539",
   "metadata": {},
   "source": [
    "# Import the Data"
   ]
  },
  {
   "cell_type": "code",
   "execution_count": 1,
   "id": "6ca6915e",
   "metadata": {},
   "outputs": [],
   "source": [
    "import unicodedata\n",
    "import glob\n",
    "import os\n",
    "import string\n",
    "import torch\n",
    "import random\n",
    "import matplotlib.pyplot as plt\n",
    "import matplotlib.ticker as ticker\n",
    "import regex as re\n",
    "\n",
    "# Turn a Unicode string to plain ASCII, thanks to\n",
    "# https://stackoverflow.com/a/518232/2809427\n",
    "def unicodeToAscii(s):\n",
    "    return ''.join(\n",
    "        c for c in unicodedata.normalize('NFD', s)\n",
    "        if unicodedata.category(c) != 'Mn'\n",
    "    )\n",
    "\n",
    "# Lowercase, trim, and remove non-letter characters\n",
    "def normalizeString(s):\n",
    "    s = unicodeToAscii(s.lower().strip())\n",
    "    # Put a space before all punctuation\n",
    "    s = re.sub(r\"([.!?])\", r\" \\1\", s)\n",
    "    # Remove any non characters or punctuation other than ! and ?\n",
    "    s = re.sub(r\"[^a-zA-Z!?]+\", r\" \", s)\n",
    "    return s.strip()"
   ]
  },
  {
   "cell_type": "code",
   "execution_count": 2,
   "id": "7ef15f8c",
   "metadata": {},
   "outputs": [],
   "source": [
    "# Read the file and split into lines\n",
    "lines = open('../data/eng-fra.txt', encoding='utf-8').read()\n",
    "lines = lines.strip().split('\\n')"
   ]
  },
  {
   "cell_type": "code",
   "execution_count": 3,
   "id": "e5028a5a",
   "metadata": {},
   "outputs": [],
   "source": [
    "pairs = [[normalizeString(s) for s in l.split('\\t')] for l in lines]"
   ]
  },
  {
   "cell_type": "code",
   "execution_count": 4,
   "id": "771b3e38",
   "metadata": {},
   "outputs": [
    {
     "data": {
      "text/plain": [
       "135842"
      ]
     },
     "execution_count": 4,
     "metadata": {},
     "output_type": "execute_result"
    }
   ],
   "source": [
    "len(pairs)"
   ]
  },
  {
   "cell_type": "markdown",
   "id": "d8a84f91",
   "metadata": {},
   "source": [
    "# Filter to Dataset"
   ]
  },
  {
   "cell_type": "code",
   "execution_count": 5,
   "id": "8777711e",
   "metadata": {},
   "outputs": [],
   "source": [
    "MAX_LENGTH = 10\n",
    "\n",
    "eng_prefixes = (\n",
    "    \"i am \", \"i m \",\n",
    "    \"he is\", \"he s \",\n",
    "    \"she is\", \"she s \",\n",
    "    \"you are\", \"you re \",\n",
    "    \"we are\", \"we re \",\n",
    "    \"they are\", \"they re \"\n",
    ")\n",
    "\n",
    "def filterPair(p):\n",
    "    return len(p[0].split(' ')) < MAX_LENGTH and \\\n",
    "        len(p[1].split(' ')) < MAX_LENGTH and \\\n",
    "        p[0].startswith(eng_prefixes)\n",
    "\n",
    "\n",
    "def filterPairs(pairs):\n",
    "    return [pair for pair in pairs if filterPair(pair)]"
   ]
  },
  {
   "cell_type": "code",
   "execution_count": 6,
   "id": "e39e5853",
   "metadata": {},
   "outputs": [],
   "source": [
    "pairs = filterPairs(pairs)"
   ]
  },
  {
   "cell_type": "code",
   "execution_count": 7,
   "id": "51ecdc5b",
   "metadata": {},
   "outputs": [],
   "source": [
    "pairs = [[x[1], x[0]] for x in pairs]"
   ]
  },
  {
   "cell_type": "markdown",
   "id": "750f4466",
   "metadata": {},
   "source": [
    "# Encode data into numerical tensors"
   ]
  },
  {
   "cell_type": "code",
   "execution_count": 8,
   "id": "86f731c4",
   "metadata": {},
   "outputs": [],
   "source": [
    "SOS_token = 0\n",
    "EOS_token = 1"
   ]
  },
  {
   "cell_type": "code",
   "execution_count": 9,
   "id": "63c85dbc",
   "metadata": {},
   "outputs": [],
   "source": [
    "class Lang:\n",
    "    def __init__(self, name):\n",
    "        self.name = name\n",
    "        self.index2word = {0: \"<SOS>\", 1: \"<EOS>\"}\n",
    "        self.word2index = {\"<SOS>\": 0, \"<EOS>\": 1}\n",
    "        self.n_words = 2\n",
    "        self.word2count = {}\n",
    "    \n",
    "    def addWord(self, word):\n",
    "        if word not in self.word2index:\n",
    "            ind = self.n_words\n",
    "            self.index2word[ind] = word\n",
    "            self.word2index[word] = ind\n",
    "            self.n_words += 1\n",
    "            self.word2count[word] = 1\n",
    "        else:\n",
    "            self.word2count[word] += 1\n",
    "    \n",
    "    def addSentence(self, sentence):\n",
    "        for word in sentence.split(\" \"):\n",
    "            self.addWord(word)"
   ]
  },
  {
   "cell_type": "code",
   "execution_count": 10,
   "id": "84e5f816",
   "metadata": {},
   "outputs": [],
   "source": [
    "eng = Lang(\"English\")\n",
    "fra = Lang(\"French\")"
   ]
  },
  {
   "cell_type": "code",
   "execution_count": 11,
   "id": "96fbf2f6",
   "metadata": {},
   "outputs": [],
   "source": [
    "for (fra_sentence, eng_sentence) in pairs:\n",
    "    fra.addSentence(fra_sentence)\n",
    "    eng.addSentence(eng_sentence)"
   ]
  },
  {
   "cell_type": "code",
   "execution_count": 12,
   "id": "77f06c69",
   "metadata": {},
   "outputs": [
    {
     "data": {
      "text/plain": [
       "'c est un representant accredite du gouvernement canadien'"
      ]
     },
     "execution_count": 12,
     "metadata": {},
     "output_type": "execute_result"
    }
   ],
   "source": [
    "fra_sentence"
   ]
  },
  {
   "cell_type": "code",
   "execution_count": 13,
   "id": "b582c9ae",
   "metadata": {},
   "outputs": [],
   "source": [
    "def sentenceToIndices(sentence, lang):\n",
    "    indices = [lang.word2index[word] for word in sentence.split(' ')]\n",
    "    indices.append(EOS_token)\n",
    "    indices.insert(SOS_token, 0)\n",
    "    indices = torch.tensor(indices, dtype = torch.long)\n",
    "    return indices"
   ]
  },
  {
   "cell_type": "markdown",
   "id": "f41b6ee4",
   "metadata": {},
   "source": [
    "# Define the Neural Network"
   ]
  },
  {
   "cell_type": "code",
   "execution_count": 14,
   "id": "b80b1dcd",
   "metadata": {},
   "outputs": [],
   "source": [
    "import torch.nn as nn\n",
    "\n",
    "class EncoderRNN(nn.Module):\n",
    "    def __init__(self, input_size, hidden_size, dropout_p = 0.1):\n",
    "        super(EncoderRNN, self).__init__()\n",
    "        \n",
    "        self.hidden_size = hidden_size\n",
    "        self.embedding = nn.Embedding(input_size, hidden_size)\n",
    "        self.gru = nn.GRU(hidden_size, hidden_size, batch_first = True)\n",
    "        self.dropout = nn.Dropout(dropout_p)\n",
    "    \n",
    "    def forward(self, input, hidden):\n",
    "        \n",
    "#         print(\"Input Size: \", input.shape)\n",
    "        embedded = self.dropout(self.embedding(input))\n",
    "#         print(\"Embedded Size: \", embedded.shape)\n",
    "        output, hidden = self.gru(embedded, hidden)\n",
    "#         print(\"Output Size: \", output.shape)\n",
    "#         print(\"Hidden Size: \", hidden.shape)\n",
    "\n",
    "        return output, hidden\n",
    "    \n",
    "    def initHidden(self):\n",
    "        return torch.zeros(1, self.hidden_size)"
   ]
  },
  {
   "cell_type": "code",
   "execution_count": 15,
   "id": "045f9f90",
   "metadata": {},
   "outputs": [],
   "source": [
    "encoder = EncoderRNN(input_size = fra.n_words, hidden_size = 128)"
   ]
  },
  {
   "cell_type": "code",
   "execution_count": 22,
   "id": "18f3379e",
   "metadata": {},
   "outputs": [],
   "source": [
    "import torch.nn as nn\n",
    "\n",
    "class DecoderRNN(nn.Module):\n",
    "    def __init__(self, hidden_size, output_size, dropout_p = 0.1):\n",
    "        super(DecoderRNN, self).__init__()\n",
    "        \n",
    "        self.hidden_size = hidden_size\n",
    "        self.embedding = nn.Embedding(output_size, hidden_size)\n",
    "        self.gru = nn.GRU(hidden_size, hidden_size, batch_first = True)\n",
    "        self.dropout = nn.Dropout(dropout_p)\n",
    "        \n",
    "        self.softmax = nn.LogSoftmax(dim = 1)\n",
    "        \n",
    "        self.o2o = nn.Linear(hidden_size, output_size)\n",
    "        \n",
    "        \n",
    "    def forward_step(self, input, hidden):\n",
    "        \n",
    "        output, hidden = self.gru(input, hidden)\n",
    "#         print(\"Output size: \", output.shape)\n",
    "        \n",
    "        return output, hidden\n",
    "    \n",
    "    def forward(self, input, encoder_hidden):\n",
    "        \n",
    "        padded_input = torch.empty(MAX_LENGTH + 1, dtype = torch.long).fill_(SOS_token)\n",
    "        \n",
    "        seq_len = input.size()[0]\n",
    "        hidden = encoder_hidden\n",
    "        \n",
    "        for i in range(seq_len):\n",
    "            padded_input[i] = input[i]\n",
    "        \n",
    "#         print(\"Input Size: \", input.shape)\n",
    "        \n",
    "        embedded = self.dropout(self.embedding(padded_input))\n",
    "#         print(\"Embedded Size: \", embedded.shape)\n",
    "        \n",
    "        outputs = torch.zeros((MAX_LENGTH + 1, self.hidden_size))\n",
    "#         print()\n",
    "        \n",
    "        for i in range(MAX_LENGTH + 1):\n",
    "#             print(i)\n",
    "            output, hidden = self.forward_step(embedded[i:i+1], hidden)\n",
    "            outputs[i, :] = output\n",
    "#         print()\n",
    "            \n",
    "#         print(\"Outputs Size: \", outputs.shape)\n",
    "#         print(\"Hidden Size: \", hidden.shape)\n",
    "\n",
    "        outputs = self.o2o(outputs)\n",
    "        outputs = self.softmax(outputs)\n",
    "\n",
    "        return outputs, hidden"
   ]
  },
  {
   "cell_type": "code",
   "execution_count": 23,
   "id": "3247c3f8",
   "metadata": {},
   "outputs": [],
   "source": [
    "decoder = DecoderRNN(hidden_size = 128, output_size = eng.n_words)"
   ]
  },
  {
   "cell_type": "markdown",
   "id": "bd265a7b",
   "metadata": {},
   "source": [
    "# Pass an example through our Neural Network"
   ]
  },
  {
   "cell_type": "code",
   "execution_count": 24,
   "id": "0a09bf85",
   "metadata": {},
   "outputs": [],
   "source": [
    "# Encoder\n",
    "\n",
    "fra_sentence, eng_sentence = pairs[-1]\n",
    "fra_tensor = sentenceToIndices(fra_sentence, fra)\n",
    "hidden = encoder.initHidden()\n",
    "outputs, encoder_hidden = encoder(fra_tensor, hidden)"
   ]
  },
  {
   "cell_type": "code",
   "execution_count": 25,
   "id": "4c55b8e7",
   "metadata": {},
   "outputs": [],
   "source": [
    "# Decoder \n",
    "eng_tensor = sentenceToIndices(eng_sentence, eng)\n",
    "\n",
    "outputs, hidden = decoder(eng_tensor, encoder_hidden)"
   ]
  },
  {
   "cell_type": "code",
   "execution_count": 28,
   "id": "0d5eff99",
   "metadata": {},
   "outputs": [],
   "source": [
    "criterion = nn.NLLLoss()"
   ]
  },
  {
   "cell_type": "code",
   "execution_count": 29,
   "id": "bf9b8170",
   "metadata": {},
   "outputs": [],
   "source": [
    "seq_len = eng_tensor.size()[0]\n",
    "\n",
    "targets = eng_tensor[1:]\n",
    "\n",
    "total_loss = torch.Tensor([0])\n",
    "for i in range(seq_len - 1):\n",
    "    loss = criterion(outputs[i], targets[i])\n",
    "    total_loss += loss\n",
    "total_loss /= (seq_len - 1)"
   ]
  },
  {
   "cell_type": "markdown",
   "id": "2892a2a4",
   "metadata": {},
   "source": [
    "# Train our NN"
   ]
  },
  {
   "cell_type": "code",
   "execution_count": 30,
   "id": "fc775b9e",
   "metadata": {},
   "outputs": [
    {
     "name": "stdout",
     "output_type": "stream",
     "text": [
      "Iterations:  1000\n",
      "Average loss:  6.6896\n",
      "Iterations:  2000\n",
      "Average loss:  4.6935\n",
      "Iterations:  3000\n",
      "Average loss:  4.185\n",
      "Iterations:  4000\n",
      "Average loss:  3.9988\n",
      "Iterations:  5000\n",
      "Average loss:  3.8478\n",
      "Iterations:  6000\n",
      "Average loss:  3.7593\n",
      "Iterations:  7000\n",
      "Average loss:  3.7218\n",
      "Iterations:  8000\n",
      "Average loss:  3.6419\n",
      "Iterations:  9000\n",
      "Average loss:  3.6402\n",
      "Iterations:  10000\n",
      "Average loss:  3.5908\n",
      "Iterations:  11000\n",
      "Average loss:  3.5874\n",
      "Iterations:  12000\n",
      "Average loss:  3.5732\n",
      "Iterations:  13000\n",
      "Average loss:  3.531\n",
      "Iterations:  14000\n",
      "Average loss:  3.4717\n",
      "Iterations:  15000\n",
      "Average loss:  3.4656\n",
      "Iterations:  16000\n",
      "Average loss:  3.4017\n",
      "Iterations:  17000\n",
      "Average loss:  3.377\n",
      "Iterations:  18000\n",
      "Average loss:  3.3696\n",
      "Iterations:  19000\n",
      "Average loss:  3.3187\n",
      "Iterations:  20000\n",
      "Average loss:  3.3054\n",
      "Iterations:  21000\n",
      "Average loss:  3.3302\n",
      "Iterations:  22000\n",
      "Average loss:  3.2737\n",
      "Iterations:  23000\n",
      "Average loss:  3.2915\n",
      "Iterations:  24000\n",
      "Average loss:  3.2043\n",
      "Iterations:  25000\n",
      "Average loss:  3.1983\n",
      "Iterations:  26000\n",
      "Average loss:  3.1736\n",
      "Iterations:  27000\n",
      "Average loss:  3.1601\n",
      "Iterations:  28000\n",
      "Average loss:  3.1555\n",
      "Iterations:  29000\n",
      "Average loss:  3.0994\n",
      "Iterations:  30000\n",
      "Average loss:  3.138\n",
      "Iterations:  31000\n",
      "Average loss:  3.156\n",
      "Iterations:  32000\n",
      "Average loss:  3.04\n",
      "Iterations:  33000\n",
      "Average loss:  3.0383\n",
      "Iterations:  34000\n",
      "Average loss:  3.0644\n",
      "Iterations:  35000\n",
      "Average loss:  3.0514\n",
      "Iterations:  36000\n",
      "Average loss:  3.0366\n",
      "Iterations:  37000\n",
      "Average loss:  2.9698\n",
      "Iterations:  38000\n",
      "Average loss:  2.9639\n",
      "Iterations:  39000\n",
      "Average loss:  2.969\n",
      "Iterations:  40000\n",
      "Average loss:  3.0252\n",
      "Iterations:  41000\n",
      "Average loss:  2.9295\n",
      "Iterations:  42000\n",
      "Average loss:  2.9267\n",
      "Iterations:  43000\n",
      "Average loss:  2.9419\n",
      "Iterations:  44000\n",
      "Average loss:  2.9098\n",
      "Iterations:  45000\n",
      "Average loss:  2.9765\n",
      "Iterations:  46000\n",
      "Average loss:  2.9415\n",
      "Iterations:  47000\n",
      "Average loss:  2.9042\n",
      "Iterations:  48000\n",
      "Average loss:  2.8776\n",
      "Iterations:  49000\n",
      "Average loss:  2.8817\n",
      "Iterations:  50000\n",
      "Average loss:  2.8692\n",
      "Iterations:  51000\n",
      "Average loss:  2.8251\n",
      "Iterations:  52000\n",
      "Average loss:  2.8576\n",
      "Iterations:  53000\n",
      "Average loss:  2.844\n",
      "Iterations:  54000\n",
      "Average loss:  2.8044\n",
      "Iterations:  55000\n",
      "Average loss:  2.8504\n",
      "Iterations:  56000\n",
      "Average loss:  2.8401\n",
      "Iterations:  57000\n",
      "Average loss:  2.7937\n",
      "Iterations:  58000\n",
      "Average loss:  2.7758\n",
      "Iterations:  59000\n",
      "Average loss:  2.788\n",
      "Iterations:  60000\n",
      "Average loss:  2.7797\n",
      "Iterations:  61000\n",
      "Average loss:  2.7852\n",
      "Iterations:  62000\n",
      "Average loss:  2.7836\n",
      "Iterations:  63000\n",
      "Average loss:  2.834\n",
      "Iterations:  64000\n",
      "Average loss:  2.7748\n",
      "Iterations:  65000\n",
      "Average loss:  2.7158\n",
      "Iterations:  66000\n",
      "Average loss:  2.7446\n",
      "Iterations:  67000\n",
      "Average loss:  2.7128\n",
      "Iterations:  68000\n",
      "Average loss:  2.7067\n",
      "Iterations:  69000\n",
      "Average loss:  2.722\n",
      "Iterations:  70000\n",
      "Average loss:  2.705\n",
      "Iterations:  71000\n",
      "Average loss:  2.6936\n",
      "Iterations:  72000\n",
      "Average loss:  2.6951\n",
      "Iterations:  73000\n",
      "Average loss:  2.7153\n",
      "Iterations:  74000\n",
      "Average loss:  2.7007\n",
      "Iterations:  75000\n",
      "Average loss:  2.6625\n",
      "Iterations:  76000\n",
      "Average loss:  2.6097\n",
      "Iterations:  77000\n",
      "Average loss:  2.6562\n",
      "Iterations:  78000\n",
      "Average loss:  2.6538\n",
      "Iterations:  79000\n",
      "Average loss:  2.6228\n",
      "Iterations:  80000\n",
      "Average loss:  2.6316\n",
      "Iterations:  81000\n",
      "Average loss:  2.6672\n",
      "Iterations:  82000\n",
      "Average loss:  2.6282\n",
      "Iterations:  83000\n",
      "Average loss:  2.6032\n",
      "Iterations:  84000\n",
      "Average loss:  2.5837\n",
      "Iterations:  85000\n",
      "Average loss:  2.5602\n",
      "Iterations:  86000\n",
      "Average loss:  2.6038\n",
      "Iterations:  87000\n",
      "Average loss:  2.6159\n",
      "Iterations:  88000\n",
      "Average loss:  2.5597\n",
      "Iterations:  89000\n",
      "Average loss:  2.5724\n",
      "Iterations:  90000\n",
      "Average loss:  2.5581\n",
      "Iterations:  91000\n",
      "Average loss:  2.5798\n",
      "Iterations:  92000\n",
      "Average loss:  2.5106\n",
      "Iterations:  93000\n",
      "Average loss:  2.5698\n",
      "Iterations:  94000\n",
      "Average loss:  2.5194\n",
      "Iterations:  95000\n",
      "Average loss:  2.4751\n",
      "Iterations:  96000\n",
      "Average loss:  2.5619\n",
      "Iterations:  97000\n",
      "Average loss:  2.507\n",
      "Iterations:  98000\n",
      "Average loss:  2.5681\n",
      "Iterations:  99000\n",
      "Average loss:  2.5161\n",
      "Iterations:  100000\n",
      "Average loss:  2.4663\n"
     ]
    }
   ],
   "source": [
    "n_iters = 100000\n",
    "learning_rate = 0.005\n",
    "\n",
    "all_losses = []\n",
    "\n",
    "avg_loss = 0\n",
    "n_checkpoint = 1000\n",
    "\n",
    "for i in range(1, n_iters + 1):\n",
    "    \n",
    "    fra_sentence, eng_sentence = random.sample(pairs, 1)[0]\n",
    "    \n",
    "    encoder.zero_grad()\n",
    "    decoder.zero_grad()\n",
    "    \n",
    "    # Encoder\n",
    "    hidden = encoder.initHidden()\n",
    "    fra_tensor = sentenceToIndices(fra_sentence, fra)\n",
    "    \n",
    "    outputs, encoder_hidden = encoder(fra_tensor, hidden)\n",
    "    \n",
    "    # Decoder \n",
    "    eng_tensor = sentenceToIndices(eng_sentence, eng)\n",
    "\n",
    "    outputs, hidden = decoder(eng_tensor, encoder_hidden)\n",
    "\n",
    "    seq_len = eng_tensor.size()[0]\n",
    "\n",
    "    targets = eng_tensor[1:]\n",
    "\n",
    "    loss = torch.Tensor([0])\n",
    "    for j in range(seq_len - 1):\n",
    "        l = criterion(outputs[j], targets[j])\n",
    "        loss += l\n",
    "    loss /= (seq_len - 1)\n",
    "    \n",
    "    loss.backward()\n",
    "    \n",
    "    avg_loss += loss\n",
    "        \n",
    "    if i % n_checkpoint == 0:\n",
    "        avg_loss /= n_checkpoint\n",
    "        print(\"Iterations: \", i)\n",
    "        print(\"Average loss: \", round(avg_loss.item(), 4))\n",
    "        \n",
    "        all_losses.append((i, round(avg_loss.item(), 4)))\n",
    "        \n",
    "        avg_loss = 0\n",
    "    \n",
    "    for p in encoder.parameters():\n",
    "        p.data.add_(p.grad.data, alpha = -learning_rate)\n",
    "    for p in decoder.parameters():\n",
    "        p.data.add_(p.grad.data, alpha = -learning_rate)"
   ]
  },
  {
   "cell_type": "markdown",
   "id": "f4d92fec",
   "metadata": {},
   "source": [
    "# Plot the learning curve"
   ]
  },
  {
   "cell_type": "code",
   "execution_count": 31,
   "id": "ede820c8",
   "metadata": {},
   "outputs": [
    {
     "data": {
      "text/plain": [
       "[<matplotlib.lines.Line2D at 0x167392240>]"
      ]
     },
     "execution_count": 31,
     "metadata": {},
     "output_type": "execute_result"
    },
    {
     "data": {
      "image/png": "[encoded data removed]",
      "text/plain": [
       "<Figure size 640x480 with 1 Axes>"
      ]
     },
     "metadata": {},
     "output_type": "display_data"
    }
   ],
   "source": [
    "plt.figure()\n",
    "plt.plot([x[0] for x in all_losses], [x[1] for x in all_losses])"
   ]
  },
  {
   "cell_type": "markdown",
   "id": "0f1ab72f",
   "metadata": {},
   "source": [
    "# Evaluating on some inputs"
   ]
  },
  {
   "cell_type": "code",
   "execution_count": 89,
   "id": "518d5a6c",
   "metadata": {},
   "outputs": [],
   "source": [
    "eng_sentence = \"I am scared of big dogs.\""
   ]
  },
  {
   "cell_type": "code",
   "execution_count": 90,
   "id": "619b2e55",
   "metadata": {},
   "outputs": [],
   "source": [
    "fra_sentence = \"J'ai peur des gros chiens.\""
   ]
  },
  {
   "cell_type": "code",
   "execution_count": 91,
   "id": "932b5b8f",
   "metadata": {},
   "outputs": [],
   "source": [
    "fra_sentence = normalizeString(fra_sentence)"
   ]
  },
  {
   "cell_type": "code",
   "execution_count": 96,
   "id": "8deb5d8a",
   "metadata": {},
   "outputs": [],
   "source": [
    "def predict(fra_sentence):\n",
    "    \n",
    "    # Encoder\n",
    "    hidden = encoder.initHidden()\n",
    "    fra_tensor = sentenceToIndices(fra_sentence, fra)\n",
    "    outputs, encoder_hidden = encoder(fra_tensor, hidden)\n",
    "    \n",
    "    # Decoder\n",
    "    input = torch.tensor([SOS_token], dtype = torch.long)\n",
    "    eng_sentence = []\n",
    "    hidden = encoder_hidden\n",
    "\n",
    "    for i in range(MAX_LENGTH + 1):\n",
    "        outputs, hidden = decoder(input, hidden)\n",
    "        output = outputs[0]\n",
    "        val, pred_ind = output.topk(1, 0, True)\n",
    "        next_word = eng.index2word[pred_ind.item()]\n",
    "        input = pred_ind\n",
    "\n",
    "        if pred_ind == EOS_token:\n",
    "            break;\n",
    "            \n",
    "        eng_sentence.append(next_word)\n",
    "    \n",
    "    return \" \".join(eng_sentence)"
   ]
  },
  {
   "cell_type": "code",
   "execution_count": 97,
   "id": "e65764df",
   "metadata": {},
   "outputs": [
    {
     "data": {
      "text/plain": [
       "'i m a good at all happy'"
      ]
     },
     "execution_count": 97,
     "metadata": {},
     "output_type": "execute_result"
    }
   ],
   "source": [
    "predict(fra_sentence)"
   ]
  },
  {
   "cell_type": "code",
   "execution_count": 98,
   "id": "69276fd4",
   "metadata": {},
   "outputs": [
    {
     "name": "stdout",
     "output_type": "stream",
     "text": [
      "French Sentence:  je ne suis pas alcoolique\n",
      "English Sentence:  i m not an alcoholic\n",
      "Predicted English Sentence Translation:  i m not a good not are as s a good\n",
      "\n",
      "French Sentence:  nous sommes prudents\n",
      "English Sentence:  we re careful\n",
      "Predicted English Sentence Translation:  we re all happy\n",
      "\n",
      "French Sentence:  tu es fiable\n",
      "English Sentence:  you re trustworthy\n",
      "Predicted English Sentence Translation:  you re all happy\n",
      "\n",
      "French Sentence:  je ne suis pas un bon pecheur\n",
      "English Sentence:  i m not good at fishing\n",
      "Predicted English Sentence Translation:  i m not a very good not a very good at\n",
      "\n",
      "French Sentence:  tu es un traitre\n",
      "English Sentence:  you re a traitor\n",
      "Predicted English Sentence Translation:  you re all a good at all a good at all\n",
      "\n",
      "French Sentence:  je n irai pas au cinema demain\n",
      "English Sentence:  i m not going to the movies tomorrow\n",
      "Predicted English Sentence Translation:  i m not are not are not are not going t\n",
      "\n",
      "French Sentence:  je suis un peu en retard sur mon planning\n",
      "English Sentence:  i m a little behind schedule\n",
      "Predicted English Sentence Translation:  i m not going to the one are the one s\n",
      "\n",
      "French Sentence:  j ai terriblement faim\n",
      "English Sentence:  i am terribly hungry\n",
      "Predicted English Sentence Translation:  i m a good at all happy s a good at\n",
      "\n",
      "French Sentence:  je suis plutot content\n",
      "English Sentence:  i m fairly happy\n",
      "Predicted English Sentence Translation:  i m a good at all re all happy\n",
      "\n",
      "French Sentence:  tu deviens rouge\n",
      "English Sentence:  you re turning red\n",
      "Predicted English Sentence Translation:  you re all the one are you re all are you\n",
      "\n"
     ]
    }
   ],
   "source": [
    "for i in range(10):\n",
    "    fra_sentence, eng_sentence = random.sample(pairs, 1)[0]\n",
    "    translation = predict(fra_sentence)\n",
    "    \n",
    "    print(\"French Sentence: \", fra_sentence)\n",
    "    print(\"English Sentence: \", eng_sentence)\n",
    "    print(\"Predicted English Sentence Translation: \", translation)\n",
    "    print()"
   ]
  },
  {
   "cell_type": "code",
   "execution_count": null,
   "id": "30eb011e",
   "metadata": {},
   "outputs": [],
   "source": []
  }
 ],
 "metadata": {
  "kernelspec": {
   "display_name": "nlp_from_scratch-kernel",
   "language": "python",
   "name": "nlp_from_scratch-kernel"
  },
  "language_info": {
   "codemirror_mode": {
    "name": "ipython",
    "version": 3
   },
   "file_extension": ".py",
   "mimetype": "text/x-python",
   "name": "python",
   "nbconvert_exporter": "python",
   "pygments_lexer": "ipython3",
   "version": "3.12.2"
  }
 },
 "nbformat": 4,
 "nbformat_minor": 5
}
