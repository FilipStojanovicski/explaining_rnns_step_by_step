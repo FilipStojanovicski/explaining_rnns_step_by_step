{
 "cells": [
  {
   "cell_type": "markdown",
   "id": "3a94b539",
   "metadata": {},
   "source": [
    "# Import the Data"
   ]
  },
  {
   "cell_type": "code",
   "execution_count": 21,
   "id": "6ca6915e",
   "metadata": {},
   "outputs": [],
   "source": [
    "import unicodedata\n",
    "import glob\n",
    "import os\n",
    "import string\n",
    "import torch\n",
    "import random\n",
    "import matplotlib.pyplot as plt\n",
    "import matplotlib.ticker as ticker\n",
    "\n",
    "all_letters = string.ascii_letters + \" .,;'\"\n",
    "\n",
    "# Turn a Unicode string to plain ASCII, thanks to https://stackoverflow.com/a/518232/2809427\n",
    "def unicodeToAscii(s):\n",
    "    return ''.join(\n",
    "        c for c in unicodedata.normalize('NFD', s)\n",
    "        if unicodedata.category(c) != 'Mn'\n",
    "        and c in all_letters\n",
    "    )\n",
    "\n",
    "# Read a file and split into lines\n",
    "def readLines(filename):\n",
    "    lines = open(filename, encoding='utf-8').read().strip().split('\\n')\n",
    "    return [unicodeToAscii(line) for line in lines]\n",
    "\n",
    "# Build the category_lines dictionary, a list of names per language\n",
    "lang_names = {}\n",
    "\n",
    "def findFiles(path): return glob.glob(path)\n",
    "\n",
    "print(findFiles('data/names/*.txt'))\n",
    "\n",
    "for filename in findFiles('data/names/*.txt'):\n",
    "    lang = os.path.splitext(os.path.basename(filename))[0]\n",
    "    names = readLines(filename)\n",
    "    lang_names[lang] = names"
   ]
  },
  {
   "cell_type": "markdown",
   "id": "750f4466",
   "metadata": {},
   "source": [
    "# Encode data into numerical tensors"
   ]
  },
  {
   "cell_type": "code",
   "execution_count": 7,
   "id": "86f731c4",
   "metadata": {},
   "outputs": [],
   "source": [
    "idx2char = dict(enumerate(all_letters))"
   ]
  },
  {
   "cell_type": "code",
   "execution_count": 8,
   "id": "4161ba05",
   "metadata": {},
   "outputs": [],
   "source": [
    "char2idx = {j:i for i,j in idx2char.items()}"
   ]
  },
  {
   "cell_type": "code",
   "execution_count": 9,
   "id": "b9debff0",
   "metadata": {},
   "outputs": [],
   "source": [
    "n_vocab = len(all_letters)"
   ]
  },
  {
   "cell_type": "code",
   "execution_count": 10,
   "id": "9fd8c7c1",
   "metadata": {},
   "outputs": [],
   "source": [
    "def nameToTensor(name):\n",
    "    tensor = torch.zeros(len(name), n_vocab)\n",
    "\n",
    "    for i, char in enumerate(name):\n",
    "        tensor[i][char2idx[char]] = 1\n",
    "    return tensor"
   ]
  },
  {
   "cell_type": "markdown",
   "id": "f41b6ee4",
   "metadata": {},
   "source": [
    "# Define the Neural Network"
   ]
  },
  {
   "cell_type": "code",
   "execution_count": 11,
   "id": "18f3379e",
   "metadata": {},
   "outputs": [],
   "source": [
    "import torch.nn as nn\n",
    "\n",
    "class RNN(nn.Module):\n",
    "    def __init__(self, input_size, hidden_size, output_size):\n",
    "        super(RNN, self).__init__()\n",
    "        \n",
    "        self.hidden_size = hidden_size\n",
    "        self.i2h = nn.Linear(input_size + hidden_size, hidden_size)\n",
    "        self.h2o = nn.Linear(hidden_size, output_size)\n",
    "        self.softmax = nn.LogSoftmax(dim = 0)\n",
    "    \n",
    "    def forward(self, input, hidden):\n",
    "#         print(\"Input Shape: \", input.shape)\n",
    "#         print(\"Hidden Input Shape: \", hidden.shape)\n",
    "        combined = torch.cat([input, hidden])\n",
    "#         print(\"Combined Shape: \", combined.shape)\n",
    "        hidden = self.i2h(combined)\n",
    "#         print(\"Hidden Output Shape: \", hidden.shape)\n",
    "        output = self.h2o(hidden)\n",
    "        output = self.softmax(output)\n",
    "#         print(\"Output Shape: \", output.shape)\n",
    "        return output, hidden\n",
    "    \n",
    "    def initHidden(self):\n",
    "        return torch.zeros(self.hidden_size)"
   ]
  },
  {
   "cell_type": "code",
   "execution_count": 12,
   "id": "afd21e6c",
   "metadata": {},
   "outputs": [],
   "source": [
    "langs = list(lang_names.keys())"
   ]
  },
  {
   "cell_type": "code",
   "execution_count": 13,
   "id": "99187648",
   "metadata": {},
   "outputs": [],
   "source": [
    "n_langs = len(langs)"
   ]
  },
  {
   "cell_type": "code",
   "execution_count": 14,
   "id": "7de978ef",
   "metadata": {},
   "outputs": [],
   "source": [
    "n_hidden = 128"
   ]
  },
  {
   "cell_type": "code",
   "execution_count": 15,
   "id": "165d1cb7",
   "metadata": {},
   "outputs": [],
   "source": [
    "rnn = RNN(input_size = n_vocab, hidden_size = n_hidden, output_size = n_langs)"
   ]
  },
  {
   "cell_type": "markdown",
   "id": "2892a2a4",
   "metadata": {},
   "source": [
    "# Train our NN"
   ]
  },
  {
   "cell_type": "code",
   "execution_count": 16,
   "id": "52209183",
   "metadata": {},
   "outputs": [],
   "source": [
    "criterion = nn.NLLLoss()"
   ]
  },
  {
   "cell_type": "code",
   "execution_count": 17,
   "id": "a7df9b73",
   "metadata": {},
   "outputs": [],
   "source": [
    "def randomExample():\n",
    "    lang = random.sample(langs, 1)[0]\n",
    "    name = random.sample(lang_names[lang], 1)[0]\n",
    "    return lang, name"
   ]
  },
  {
   "cell_type": "code",
   "execution_count": 18,
   "id": "fc775b9e",
   "metadata": {},
   "outputs": [
    {
     "name": "stdout",
     "output_type": "stream",
     "text": [
      "Iterations:  1000\n",
      "Average loss:  2.8821\n",
      "Iterations:  2000\n",
      "Average loss:  2.8544\n",
      "Iterations:  3000\n",
      "Average loss:  2.8226\n",
      "Iterations:  4000\n",
      "Average loss:  2.7772\n",
      "Iterations:  5000\n",
      "Average loss:  2.6794\n",
      "Iterations:  6000\n",
      "Average loss:  2.5213\n",
      "Iterations:  7000\n",
      "Average loss:  2.2826\n",
      "Iterations:  8000\n",
      "Average loss:  2.17\n",
      "Iterations:  9000\n",
      "Average loss:  2.0884\n",
      "Iterations:  10000\n",
      "Average loss:  2.0756\n",
      "Iterations:  11000\n",
      "Average loss:  1.9827\n",
      "Iterations:  12000\n",
      "Average loss:  1.883\n",
      "Iterations:  13000\n",
      "Average loss:  1.8994\n",
      "Iterations:  14000\n",
      "Average loss:  1.8313\n",
      "Iterations:  15000\n",
      "Average loss:  1.8179\n",
      "Iterations:  16000\n",
      "Average loss:  1.7344\n",
      "Iterations:  17000\n",
      "Average loss:  1.793\n",
      "Iterations:  18000\n",
      "Average loss:  1.7522\n",
      "Iterations:  19000\n",
      "Average loss:  1.6534\n",
      "Iterations:  20000\n",
      "Average loss:  1.6873\n",
      "Iterations:  21000\n",
      "Average loss:  1.7223\n",
      "Iterations:  22000\n",
      "Average loss:  1.62\n",
      "Iterations:  23000\n",
      "Average loss:  1.6504\n",
      "Iterations:  24000\n",
      "Average loss:  1.7057\n",
      "Iterations:  25000\n",
      "Average loss:  1.6564\n",
      "Iterations:  26000\n",
      "Average loss:  1.6369\n",
      "Iterations:  27000\n",
      "Average loss:  1.5843\n",
      "Iterations:  28000\n",
      "Average loss:  1.5678\n",
      "Iterations:  29000\n",
      "Average loss:  1.5608\n",
      "Iterations:  30000\n",
      "Average loss:  1.514\n",
      "Iterations:  31000\n",
      "Average loss:  1.5295\n",
      "Iterations:  32000\n",
      "Average loss:  1.5714\n",
      "Iterations:  33000\n",
      "Average loss:  1.4999\n",
      "Iterations:  34000\n",
      "Average loss:  1.4961\n",
      "Iterations:  35000\n",
      "Average loss:  1.4999\n",
      "Iterations:  36000\n",
      "Average loss:  1.4397\n",
      "Iterations:  37000\n",
      "Average loss:  1.5404\n",
      "Iterations:  38000\n",
      "Average loss:  1.4934\n",
      "Iterations:  39000\n",
      "Average loss:  1.4882\n",
      "Iterations:  40000\n",
      "Average loss:  1.4181\n",
      "Iterations:  41000\n",
      "Average loss:  1.4398\n",
      "Iterations:  42000\n",
      "Average loss:  1.3859\n",
      "Iterations:  43000\n",
      "Average loss:  1.4655\n",
      "Iterations:  44000\n",
      "Average loss:  1.456\n",
      "Iterations:  45000\n",
      "Average loss:  1.4683\n",
      "Iterations:  46000\n",
      "Average loss:  1.538\n",
      "Iterations:  47000\n",
      "Average loss:  1.4592\n",
      "Iterations:  48000\n",
      "Average loss:  1.4284\n",
      "Iterations:  49000\n",
      "Average loss:  1.4264\n",
      "Iterations:  50000\n",
      "Average loss:  1.3898\n",
      "Iterations:  51000\n",
      "Average loss:  1.4581\n",
      "Iterations:  52000\n",
      "Average loss:  1.4521\n",
      "Iterations:  53000\n",
      "Average loss:  1.3885\n",
      "Iterations:  54000\n",
      "Average loss:  1.4882\n",
      "Iterations:  55000\n",
      "Average loss:  1.3265\n",
      "Iterations:  56000\n",
      "Average loss:  1.411\n",
      "Iterations:  57000\n",
      "Average loss:  1.3376\n",
      "Iterations:  58000\n",
      "Average loss:  1.4354\n",
      "Iterations:  59000\n",
      "Average loss:  1.2824\n",
      "Iterations:  60000\n",
      "Average loss:  1.3463\n",
      "Iterations:  61000\n",
      "Average loss:  1.3721\n",
      "Iterations:  62000\n",
      "Average loss:  1.3564\n",
      "Iterations:  63000\n",
      "Average loss:  1.3974\n",
      "Iterations:  64000\n",
      "Average loss:  1.3929\n",
      "Iterations:  65000\n",
      "Average loss:  1.4152\n",
      "Iterations:  66000\n",
      "Average loss:  1.3138\n",
      "Iterations:  67000\n",
      "Average loss:  1.467\n",
      "Iterations:  68000\n",
      "Average loss:  1.4253\n",
      "Iterations:  69000\n",
      "Average loss:  1.4093\n",
      "Iterations:  70000\n",
      "Average loss:  1.2973\n",
      "Iterations:  71000\n",
      "Average loss:  1.4493\n",
      "Iterations:  72000\n",
      "Average loss:  1.4954\n",
      "Iterations:  73000\n",
      "Average loss:  1.393\n",
      "Iterations:  74000\n",
      "Average loss:  1.4168\n",
      "Iterations:  75000\n",
      "Average loss:  1.4354\n",
      "Iterations:  76000\n",
      "Average loss:  1.368\n",
      "Iterations:  77000\n",
      "Average loss:  1.3506\n",
      "Iterations:  78000\n",
      "Average loss:  1.3718\n",
      "Iterations:  79000\n",
      "Average loss:  1.3034\n",
      "Iterations:  80000\n",
      "Average loss:  1.3412\n",
      "Iterations:  81000\n",
      "Average loss:  1.3141\n",
      "Iterations:  82000\n",
      "Average loss:  1.3496\n",
      "Iterations:  83000\n",
      "Average loss:  1.3329\n",
      "Iterations:  84000\n",
      "Average loss:  1.3052\n",
      "Iterations:  85000\n",
      "Average loss:  1.3682\n",
      "Iterations:  86000\n",
      "Average loss:  1.336\n",
      "Iterations:  87000\n",
      "Average loss:  1.3241\n",
      "Iterations:  88000\n",
      "Average loss:  1.2713\n",
      "Iterations:  89000\n",
      "Average loss:  1.2978\n",
      "Iterations:  90000\n",
      "Average loss:  1.3352\n",
      "Iterations:  91000\n",
      "Average loss:  1.3551\n",
      "Iterations:  92000\n",
      "Average loss:  1.3018\n",
      "Iterations:  93000\n",
      "Average loss:  1.302\n",
      "Iterations:  94000\n",
      "Average loss:  1.2761\n",
      "Iterations:  95000\n",
      "Average loss:  1.34\n",
      "Iterations:  96000\n",
      "Average loss:  1.2603\n",
      "Iterations:  97000\n",
      "Average loss:  1.2689\n",
      "Iterations:  98000\n",
      "Average loss:  1.3328\n",
      "Iterations:  99000\n",
      "Average loss:  1.3013\n",
      "Iterations:  100000\n",
      "Average loss:  1.3584\n"
     ]
    }
   ],
   "source": [
    "n_iters = 100000\n",
    "learning_rate = 0.005\n",
    "\n",
    "all_losses = []\n",
    "\n",
    "avg_loss = 0\n",
    "n_checkpoint = 1000\n",
    "for i in range(1, n_iters + 1):\n",
    "    \n",
    "    # Initialize hidden state\n",
    "    hidden = rnn.initHidden()\n",
    "    \n",
    "    rnn.zero_grad()\n",
    "    \n",
    "    lang, name = randomExample()\n",
    "    \n",
    "    input = nameToTensor(name)\n",
    "    target = torch.tensor(langs.index(lang), dtype = torch.long)\n",
    "    \n",
    "    for j in range(input.size()[0]):\n",
    "        output, hidden = rnn(input[j], hidden)\n",
    "        \n",
    "    loss = criterion(output, target)\n",
    "    loss.backward()\n",
    "    \n",
    "    avg_loss += loss\n",
    "        \n",
    "    if i % n_checkpoint == 0:\n",
    "        avg_loss /= n_checkpoint\n",
    "        print(\"Iterations: \", i)\n",
    "        print(\"Average loss: \", round(avg_loss.item(), 4))\n",
    "        \n",
    "        all_losses.append((i, round(avg_loss.item(), 4)))\n",
    "        \n",
    "        avg_loss = 0\n",
    "    \n",
    "    for p in rnn.parameters():\n",
    "        p.data.add_(p.grad.data, alpha = -learning_rate)"
   ]
  },
  {
   "cell_type": "markdown",
   "id": "f4d92fec",
   "metadata": {},
   "source": [
    "# Plot the learning curve"
   ]
  },
  {
   "cell_type": "code",
   "execution_count": 22,
   "id": "16171f69",
   "metadata": {},
   "outputs": [
    {
     "data": {
      "text/plain": [
       "[<matplotlib.lines.Line2D at 0x168980500>]"
      ]
     },
     "execution_count": 22,
     "metadata": {},
     "output_type": "execute_result"
    },
    {
     "data": {
      "image/png": "[encoded data removed]",
      "text/plain": [
       "<Figure size 640x480 with 1 Axes>"
      ]
     },
     "metadata": {},
     "output_type": "display_data"
    }
   ],
   "source": [
    "plt.figure()\n",
    "plt.plot([x[0] for x in all_losses], [x[1] for x in all_losses])"
   ]
  },
  {
   "cell_type": "markdown",
   "id": "0f1ab72f",
   "metadata": {},
   "source": [
    "# Evaluating on some inputs"
   ]
  },
  {
   "cell_type": "code",
   "execution_count": 23,
   "id": "33a30c5d",
   "metadata": {},
   "outputs": [],
   "source": [
    "def predict(name, n_predictions = 3):\n",
    "    \n",
    "    with torch.no_grad():\n",
    "        \n",
    "        hidden = rnn.initHidden()\n",
    "\n",
    "        input = nameToTensor(name)\n",
    "\n",
    "        for j in range(input.size()[0]):\n",
    "            output, hidden = rnn(input[j], hidden)\n",
    "            \n",
    "        top_k = output.topk(3, 0, True)\n",
    "        \n",
    "        top_lang_preds = [langs[index] for index in top_k[1]]\n",
    "        \n",
    "    return top_lang_preds"
   ]
  },
  {
   "cell_type": "code",
   "execution_count": 24,
   "id": "48b11a97",
   "metadata": {},
   "outputs": [
    {
     "name": "stdout",
     "output_type": "stream",
     "text": [
      "Name:  Gomes\n",
      "Language:  Portuguese\n",
      "Predicted languages:  Dutch, Portuguese, English\n",
      "\n",
      "Name:  Zimola\n",
      "Language:  Czech\n",
      "Predicted languages:  Spanish, Czech, Japanese\n",
      "\n",
      "Name:  Albuquerque\n",
      "Language:  Portuguese\n",
      "Predicted languages:  Portuguese, French, Spanish\n",
      "\n",
      "Name:  Kodama\n",
      "Language:  Japanese\n",
      "Predicted languages:  Japanese, Arabic, Czech\n",
      "\n",
      "Name:  an\n",
      "Language:  Vietnamese\n",
      "Predicted languages:  Irish, Chinese, English\n",
      "\n",
      "Name:  Jubb\n",
      "Language:  English\n",
      "Predicted languages:  Arabic, German, Czech\n",
      "\n",
      "Name:  Si\n",
      "Language:  Korean\n",
      "Predicted languages:  Korean, Chinese, Japanese\n",
      "\n",
      "Name:  Jobst\n",
      "Language:  Czech\n",
      "Predicted languages:  English, Czech, German\n",
      "\n",
      "Name:  Mozdzierz\n",
      "Language:  Polish\n",
      "Predicted languages:  Polish, Spanish, Dutch\n",
      "\n",
      "Name:  Melo\n",
      "Language:  Portuguese\n",
      "Predicted languages:  Portuguese, Spanish, Italian\n",
      "\n"
     ]
    }
   ],
   "source": [
    "for i in range(10):\n",
    "    lang, name = randomExample()\n",
    "    \n",
    "    preds = predict(name)\n",
    "    \n",
    "    print(\"Name: \", name)\n",
    "    print(\"Language: \", lang)\n",
    "    print(\"Predicted languages: \", \", \".join(preds))\n",
    "    print()"
   ]
  },
  {
   "cell_type": "markdown",
   "id": "c3e61ea0",
   "metadata": {},
   "source": [
    "# Confusion Matrix"
   ]
  },
  {
   "cell_type": "code",
   "execution_count": 25,
   "id": "d98aaa47",
   "metadata": {},
   "outputs": [],
   "source": [
    "confusion = torch.zeros(n_langs, n_langs)\n",
    "n_confusion = 10000"
   ]
  },
  {
   "cell_type": "code",
   "execution_count": 26,
   "id": "e3e073c0",
   "metadata": {},
   "outputs": [],
   "source": [
    "for i in range(n_confusion):\n",
    "    lang, name = randomExample()\n",
    "    \n",
    "    preds = predict(name)\n",
    "    pred = preds[0]\n",
    "    \n",
    "    pred = langs.index(pred)\n",
    "    target = langs.index(lang)\n",
    "    \n",
    "    confusion[target][pred] += 1"
   ]
  },
  {
   "cell_type": "code",
   "execution_count": 27,
   "id": "72a64158",
   "metadata": {},
   "outputs": [],
   "source": [
    "for i in range(n_langs):\n",
    "    confusion[i] /= confusion[i].sum()"
   ]
  },
  {
   "cell_type": "code",
   "execution_count": 28,
   "id": "30541cbc",
   "metadata": {},
   "outputs": [
    {
     "name": "stderr",
     "output_type": "stream",
     "text": [
      "/var/folders/dx/y8znj2hn5sv9_zwtm2h2y_zm0000gn/T/ipykernel_61128/3961177364.py:11: UserWarning: set_ticklabels() should only be used with a fixed number of ticks, i.e. after set_ticks() or using a FixedLocator.\n",
      "  ax.set_xticklabels([''] + langs, rotation=90)\n",
      "/var/folders/dx/y8znj2hn5sv9_zwtm2h2y_zm0000gn/T/ipykernel_61128/3961177364.py:12: UserWarning: set_ticklabels() should only be used with a fixed number of ticks, i.e. after set_ticks() or using a FixedLocator.\n",
      "  ax.set_yticklabels([''] + langs)\n"
     ]
    },
    {
     "data": {
      "image/png": "[encoded data removed]",
      "text/plain": [
       "<Figure size 640x480 with 2 Axes>"
      ]
     },
     "metadata": {},
     "output_type": "display_data"
    }
   ],
   "source": [
    "import matplotlib.pyplot as plt\n",
    "import matplotlib.ticker as ticker\n",
    "\n",
    "# Set up plot\n",
    "fig = plt.figure()\n",
    "ax = fig.add_subplot(111)\n",
    "cax = ax.matshow(confusion.numpy())\n",
    "fig.colorbar(cax)\n",
    "\n",
    "# Set up axes\n",
    "ax.set_xticklabels([''] + langs, rotation=90)\n",
    "ax.set_yticklabels([''] + langs)\n",
    "\n",
    "# Force label at every tick\n",
    "ax.xaxis.set_major_locator(ticker.MultipleLocator(1))\n",
    "ax.yaxis.set_major_locator(ticker.MultipleLocator(1))\n",
    "\n",
    "# sphinx_gallery_thumbnail_number = 2\n",
    "plt.show()"
   ]
  },
  {
   "cell_type": "code",
   "execution_count": null,
   "id": "e35e489c",
   "metadata": {},
   "outputs": [],
   "source": []
  }
 ],
 "metadata": {
  "kernelspec": {
   "display_name": "nlp_from_scratch-kernel",
   "language": "python",
   "name": "nlp_from_scratch-kernel"
  },
  "language_info": {
   "codemirror_mode": {
    "name": "ipython",
    "version": 3
   },
   "file_extension": ".py",
   "mimetype": "text/x-python",
   "name": "python",
   "nbconvert_exporter": "python",
   "pygments_lexer": "ipython3",
   "version": "3.12.2"
  }
 },
 "nbformat": 4,
 "nbformat_minor": 5
}
