{
 "cells": [
  {
   "cell_type": "markdown",
   "id": "3a94b539",
   "metadata": {},
   "source": [
    "# Import the Data"
   ]
  },
  {
   "cell_type": "code",
   "execution_count": 1,
   "id": "6ca6915e",
   "metadata": {},
   "outputs": [],
   "source": [
    "import unicodedata\n",
    "import glob\n",
    "import os\n",
    "import string\n",
    "import torch\n",
    "import random\n",
    "import matplotlib.pyplot as plt\n",
    "import matplotlib.ticker as ticker"
   ]
  },
  {
   "cell_type": "code",
   "execution_count": 2,
   "id": "13aa01cf",
   "metadata": {},
   "outputs": [],
   "source": [
    "all_letters = string.ascii_letters + \" .,;'\"\n",
    "\n",
    "# Turn a Unicode string to plain ASCII, thanks to https://stackoverflow.com/a/518232/2809427\n",
    "def unicodeToAscii(s):\n",
    "    return ''.join(\n",
    "        c for c in unicodedata.normalize('NFD', s)\n",
    "        if unicodedata.category(c) != 'Mn'\n",
    "        and c in all_letters\n",
    "    )"
   ]
  },
  {
   "cell_type": "code",
   "execution_count": 3,
   "id": "46b4b9a7",
   "metadata": {},
   "outputs": [],
   "source": [
    "# Read a file and split into lines\n",
    "def readLines(filename):\n",
    "    lines = open(filename, encoding='utf-8').read().strip().split('\\n')\n",
    "    return [unicodeToAscii(line) for line in lines]"
   ]
  },
  {
   "cell_type": "code",
   "execution_count": 4,
   "id": "45575757",
   "metadata": {},
   "outputs": [],
   "source": [
    "# Build the category_lines dictionary, a list of names per language\n",
    "lang_names = {}"
   ]
  },
  {
   "cell_type": "code",
   "execution_count": 5,
   "id": "9d8bd1e4",
   "metadata": {},
   "outputs": [
    {
     "name": "stdout",
     "output_type": "stream",
     "text": [
      "['data/names/Czech.txt', 'data/names/German.txt', 'data/names/Arabic.txt', 'data/names/Japanese.txt', 'data/names/Chinese.txt', 'data/names/Vietnamese.txt', 'data/names/Russian.txt', 'data/names/French.txt', 'data/names/Irish.txt', 'data/names/English.txt', 'data/names/Spanish.txt', 'data/names/Greek.txt', 'data/names/Italian.txt', 'data/names/Portuguese.txt', 'data/names/Scottish.txt', 'data/names/Dutch.txt', 'data/names/Korean.txt', 'data/names/Polish.txt']\n"
     ]
    }
   ],
   "source": [
    "def findFiles(path): return glob.glob(path)\n",
    "\n",
    "print(findFiles('data/names/*.txt'))"
   ]
  },
  {
   "cell_type": "code",
   "execution_count": 6,
   "id": "8994d7cc",
   "metadata": {},
   "outputs": [],
   "source": [
    "for filename in findFiles('data/names/*.txt'):\n",
    "    lang = os.path.splitext(os.path.basename(filename))[0]\n",
    "    names = readLines(filename)\n",
    "    lang_names[lang] = names"
   ]
  },
  {
   "cell_type": "markdown",
   "id": "750f4466",
   "metadata": {},
   "source": [
    "# Encode data into numerical tensors"
   ]
  },
  {
   "cell_type": "code",
   "execution_count": 7,
   "id": "86f731c4",
   "metadata": {},
   "outputs": [],
   "source": [
    "idx2char = dict(enumerate(all_letters))"
   ]
  },
  {
   "cell_type": "code",
   "execution_count": 8,
   "id": "4161ba05",
   "metadata": {},
   "outputs": [],
   "source": [
    "char2idx = {j:i for i,j in idx2char.items()}"
   ]
  },
  {
   "cell_type": "code",
   "execution_count": 9,
   "id": "b9debff0",
   "metadata": {},
   "outputs": [],
   "source": [
    "n_vocab = len(all_letters)"
   ]
  },
  {
   "cell_type": "code",
   "execution_count": 10,
   "id": "9fd8c7c1",
   "metadata": {},
   "outputs": [],
   "source": [
    "def nameToTensor(name):\n",
    "    tensor = torch.zeros(len(name), n_vocab)\n",
    "\n",
    "    for i, char in enumerate(name):\n",
    "        tensor[i][char2idx[char]] = 1\n",
    "    return tensor"
   ]
  },
  {
   "cell_type": "markdown",
   "id": "f41b6ee4",
   "metadata": {},
   "source": [
    "# Define the Neural Network"
   ]
  },
  {
   "cell_type": "code",
   "execution_count": 11,
   "id": "d34b9187",
   "metadata": {},
   "outputs": [],
   "source": [
    "import torch.nn as nn"
   ]
  },
  {
   "cell_type": "code",
   "execution_count": 12,
   "id": "18f3379e",
   "metadata": {},
   "outputs": [],
   "source": [
    "class RNN(nn.Module):\n",
    "    def __init__(self, input_size, hidden_size, output_size):\n",
    "        super(RNN, self).__init__()\n",
    "        \n",
    "        self.hidden_size = hidden_size\n",
    "        self.rnn = nn.RNN(input_size = input_size, hidden_size = hidden_size)\n",
    "        self.linear = nn.Linear(hidden_size, output_size)\n",
    "        self.softmax = nn.LogSoftmax(dim = 0)\n",
    "    \n",
    "    def forward(self, input, hidden):\n",
    "        output, hidden = self.rnn(input, hidden)\n",
    "        # Take the output at the last timestemp\n",
    "        output = output[-1]\n",
    "        output = self.linear(output)\n",
    "        output = self.softmax(output)\n",
    "        return output, hidden\n",
    "    \n",
    "    def initHidden(self):\n",
    "        return torch.zeros(1, self.hidden_size)"
   ]
  },
  {
   "cell_type": "code",
   "execution_count": 13,
   "id": "5a56009e",
   "metadata": {},
   "outputs": [],
   "source": [
    "class GRU(nn.Module):\n",
    "    def __init__(self, input_size, hidden_size, output_size):\n",
    "        super(GRU, self).__init__()\n",
    "        \n",
    "        self.hidden_size = hidden_size\n",
    "        self.rnn = nn.GRU(input_size = input_size, hidden_size = hidden_size)\n",
    "        self.linear = nn.Linear(hidden_size, output_size)\n",
    "        self.softmax = nn.LogSoftmax(dim = 0)\n",
    "    \n",
    "    def forward(self, input, hidden):\n",
    "        output, hidden = self.rnn(input, hidden)\n",
    "        output = output[-1]\n",
    "        output = self.linear(output)\n",
    "        output = self.softmax(output)\n",
    "        return output, hidden\n",
    "    \n",
    "    def initHidden(self):\n",
    "        return torch.zeros(1, self.hidden_size)"
   ]
  },
  {
   "cell_type": "code",
   "execution_count": 14,
   "id": "19119994",
   "metadata": {},
   "outputs": [],
   "source": [
    "class LSTM(nn.Module):\n",
    "    def __init__(self, input_size, hidden_size, output_size):\n",
    "        super(LSTM, self).__init__()\n",
    "        \n",
    "        self.hidden_size = hidden_size\n",
    "        self.rnn = nn.LSTM(input_size = input_size, hidden_size = hidden_size)\n",
    "        self.linear = nn.Linear(hidden_size, output_size)\n",
    "        self.softmax = nn.LogSoftmax(dim = 0)\n",
    "    \n",
    "    def forward(self, input, hidden, cell_state):\n",
    "        output, (hidden, cell_state) = self.rnn(input, (hidden, cell_state))\n",
    "        # Take the output at the last timestemp\n",
    "        output = output[-1]\n",
    "        output = self.linear(output)\n",
    "        output = self.softmax(output)\n",
    "        return output, hidden, cell_state\n",
    "    \n",
    "    def initHidden(self):\n",
    "        return torch.zeros(1, self.hidden_size)"
   ]
  },
  {
   "cell_type": "code",
   "execution_count": 15,
   "id": "afd21e6c",
   "metadata": {},
   "outputs": [],
   "source": [
    "langs = list(lang_names.keys())"
   ]
  },
  {
   "cell_type": "code",
   "execution_count": 16,
   "id": "99187648",
   "metadata": {},
   "outputs": [],
   "source": [
    "n_langs = len(langs)"
   ]
  },
  {
   "cell_type": "code",
   "execution_count": 17,
   "id": "7de978ef",
   "metadata": {},
   "outputs": [],
   "source": [
    "n_hidden = 128"
   ]
  },
  {
   "cell_type": "code",
   "execution_count": 18,
   "id": "165d1cb7",
   "metadata": {},
   "outputs": [],
   "source": [
    "rnn = RNN(input_size = n_vocab, hidden_size = n_hidden, output_size = n_langs)"
   ]
  },
  {
   "cell_type": "code",
   "execution_count": 19,
   "id": "a7df9b73",
   "metadata": {},
   "outputs": [],
   "source": [
    "def randomExample():\n",
    "    lang = random.sample(langs, 1)[0]\n",
    "    name = random.sample(lang_names[lang], 1)[0]\n",
    "    return lang, name"
   ]
  },
  {
   "cell_type": "code",
   "execution_count": 20,
   "id": "52209183",
   "metadata": {},
   "outputs": [],
   "source": [
    "criterion = nn.NLLLoss()"
   ]
  },
  {
   "cell_type": "markdown",
   "id": "2892a2a4",
   "metadata": {},
   "source": [
    "# Train our NN"
   ]
  },
  {
   "cell_type": "code",
   "execution_count": 21,
   "id": "fc775b9e",
   "metadata": {},
   "outputs": [
    {
     "name": "stdout",
     "output_type": "stream",
     "text": [
      "Iterations:  1000\n",
      "Average loss:  2.8755\n",
      "Iterations:  2000\n",
      "Average loss:  2.8336\n",
      "Iterations:  3000\n",
      "Average loss:  2.7616\n",
      "Iterations:  4000\n",
      "Average loss:  2.5541\n",
      "Iterations:  5000\n",
      "Average loss:  2.4265\n",
      "Iterations:  6000\n",
      "Average loss:  2.2829\n",
      "Iterations:  7000\n",
      "Average loss:  2.2568\n",
      "Iterations:  8000\n",
      "Average loss:  2.1224\n",
      "Iterations:  9000\n",
      "Average loss:  2.0502\n",
      "Iterations:  10000\n",
      "Average loss:  2.0448\n",
      "Iterations:  11000\n",
      "Average loss:  1.9536\n",
      "Iterations:  12000\n",
      "Average loss:  1.9248\n",
      "Iterations:  13000\n",
      "Average loss:  1.8492\n",
      "Iterations:  14000\n",
      "Average loss:  1.8294\n",
      "Iterations:  15000\n",
      "Average loss:  1.7913\n",
      "Iterations:  16000\n",
      "Average loss:  1.7771\n",
      "Iterations:  17000\n",
      "Average loss:  1.7229\n",
      "Iterations:  18000\n",
      "Average loss:  1.7112\n",
      "Iterations:  19000\n",
      "Average loss:  1.6736\n",
      "Iterations:  20000\n",
      "Average loss:  1.6656\n",
      "Iterations:  21000\n",
      "Average loss:  1.71\n",
      "Iterations:  22000\n",
      "Average loss:  1.6229\n",
      "Iterations:  23000\n",
      "Average loss:  1.651\n",
      "Iterations:  24000\n",
      "Average loss:  1.6219\n",
      "Iterations:  25000\n",
      "Average loss:  1.566\n",
      "Iterations:  26000\n",
      "Average loss:  1.5725\n",
      "Iterations:  27000\n",
      "Average loss:  1.5321\n",
      "Iterations:  28000\n",
      "Average loss:  1.5553\n",
      "Iterations:  29000\n",
      "Average loss:  1.5412\n",
      "Iterations:  30000\n",
      "Average loss:  1.5318\n",
      "Iterations:  31000\n",
      "Average loss:  1.501\n",
      "Iterations:  32000\n",
      "Average loss:  1.4872\n",
      "Iterations:  33000\n",
      "Average loss:  1.4919\n",
      "Iterations:  34000\n",
      "Average loss:  1.5413\n",
      "Iterations:  35000\n",
      "Average loss:  1.4928\n",
      "Iterations:  36000\n",
      "Average loss:  1.3971\n",
      "Iterations:  37000\n",
      "Average loss:  1.443\n",
      "Iterations:  38000\n",
      "Average loss:  1.3664\n",
      "Iterations:  39000\n",
      "Average loss:  1.3687\n",
      "Iterations:  40000\n",
      "Average loss:  1.3822\n",
      "Iterations:  41000\n",
      "Average loss:  1.4039\n",
      "Iterations:  42000\n",
      "Average loss:  1.4094\n",
      "Iterations:  43000\n",
      "Average loss:  1.3287\n",
      "Iterations:  44000\n",
      "Average loss:  1.3813\n",
      "Iterations:  45000\n",
      "Average loss:  1.3518\n",
      "Iterations:  46000\n",
      "Average loss:  1.3058\n",
      "Iterations:  47000\n",
      "Average loss:  1.371\n",
      "Iterations:  48000\n",
      "Average loss:  1.3455\n",
      "Iterations:  49000\n",
      "Average loss:  1.3361\n",
      "Iterations:  50000\n",
      "Average loss:  1.348\n",
      "Iterations:  51000\n",
      "Average loss:  1.2923\n",
      "Iterations:  52000\n",
      "Average loss:  1.2912\n",
      "Iterations:  53000\n",
      "Average loss:  1.3071\n",
      "Iterations:  54000\n",
      "Average loss:  1.2618\n",
      "Iterations:  55000\n",
      "Average loss:  1.2749\n",
      "Iterations:  56000\n",
      "Average loss:  1.2238\n",
      "Iterations:  57000\n",
      "Average loss:  1.2175\n",
      "Iterations:  58000\n",
      "Average loss:  1.2849\n",
      "Iterations:  59000\n",
      "Average loss:  1.2668\n",
      "Iterations:  60000\n",
      "Average loss:  1.224\n",
      "Iterations:  61000\n",
      "Average loss:  1.1819\n",
      "Iterations:  62000\n",
      "Average loss:  1.1997\n",
      "Iterations:  63000\n",
      "Average loss:  1.1838\n",
      "Iterations:  64000\n",
      "Average loss:  1.1707\n",
      "Iterations:  65000\n",
      "Average loss:  1.2166\n",
      "Iterations:  66000\n",
      "Average loss:  1.1493\n",
      "Iterations:  67000\n",
      "Average loss:  1.1183\n",
      "Iterations:  68000\n",
      "Average loss:  1.1405\n",
      "Iterations:  69000\n",
      "Average loss:  1.1903\n",
      "Iterations:  70000\n",
      "Average loss:  1.135\n",
      "Iterations:  71000\n",
      "Average loss:  1.1452\n",
      "Iterations:  72000\n",
      "Average loss:  1.0617\n",
      "Iterations:  73000\n",
      "Average loss:  1.105\n",
      "Iterations:  74000\n",
      "Average loss:  1.1511\n",
      "Iterations:  75000\n",
      "Average loss:  1.1105\n",
      "Iterations:  76000\n",
      "Average loss:  1.0585\n",
      "Iterations:  77000\n",
      "Average loss:  1.0933\n",
      "Iterations:  78000\n",
      "Average loss:  1.1136\n",
      "Iterations:  79000\n",
      "Average loss:  1.0283\n",
      "Iterations:  80000\n",
      "Average loss:  1.0059\n",
      "Iterations:  81000\n",
      "Average loss:  1.0264\n",
      "Iterations:  82000\n",
      "Average loss:  1.0918\n",
      "Iterations:  83000\n",
      "Average loss:  1.024\n",
      "Iterations:  84000\n",
      "Average loss:  0.991\n",
      "Iterations:  85000\n",
      "Average loss:  0.9543\n",
      "Iterations:  86000\n",
      "Average loss:  1.0075\n",
      "Iterations:  87000\n",
      "Average loss:  0.9928\n",
      "Iterations:  88000\n",
      "Average loss:  0.9579\n",
      "Iterations:  89000\n",
      "Average loss:  0.9645\n",
      "Iterations:  90000\n",
      "Average loss:  0.929\n",
      "Iterations:  91000\n",
      "Average loss:  0.946\n",
      "Iterations:  92000\n",
      "Average loss:  0.926\n",
      "Iterations:  93000\n",
      "Average loss:  0.9074\n",
      "Iterations:  94000\n",
      "Average loss:  0.9509\n",
      "Iterations:  95000\n",
      "Average loss:  0.9462\n",
      "Iterations:  96000\n",
      "Average loss:  0.9147\n",
      "Iterations:  97000\n",
      "Average loss:  0.8759\n",
      "Iterations:  98000\n",
      "Average loss:  0.8522\n",
      "Iterations:  99000\n",
      "Average loss:  0.9365\n",
      "Iterations:  100000\n",
      "Average loss:  0.9096\n"
     ]
    }
   ],
   "source": [
    "n_iters = 100000\n",
    "learning_rate = 0.005\n",
    "\n",
    "all_losses = []\n",
    "\n",
    "avg_loss = 0\n",
    "n_checkpoint = 1000\n",
    "for i in range(1, n_iters + 1):\n",
    "    \n",
    "    # Initialize hidden state\n",
    "    hidden = rnn.initHidden()\n",
    "    \n",
    "    rnn.zero_grad()\n",
    "    \n",
    "    lang, name = randomExample()\n",
    "    \n",
    "    input = nameToTensor(name)\n",
    "    target = torch.tensor(langs.index(lang), dtype = torch.long)\n",
    "    \n",
    "    output, hidden = rnn(input, hidden)\n",
    "        \n",
    "    loss = criterion(output, target)\n",
    "    loss.backward()\n",
    "    \n",
    "    avg_loss += loss\n",
    "        \n",
    "    if i % n_checkpoint == 0:\n",
    "        avg_loss /= n_checkpoint\n",
    "        print(\"Iterations: \", i)\n",
    "        print(\"Average loss: \", round(avg_loss.item(), 4))\n",
    "        \n",
    "        all_losses.append((i, round(avg_loss.item(), 4)))\n",
    "        \n",
    "        avg_loss = 0\n",
    "    \n",
    "    for p in rnn.parameters():\n",
    "        p.data.add_(p.grad.data, alpha = -learning_rate)"
   ]
  },
  {
   "cell_type": "markdown",
   "id": "f4d92fec",
   "metadata": {},
   "source": [
    "# Plot the learning curve"
   ]
  },
  {
   "cell_type": "code",
   "execution_count": 22,
   "id": "16171f69",
   "metadata": {},
   "outputs": [
    {
     "data": {
      "text/plain": [
       "[<matplotlib.lines.Line2D at 0x16763af90>]"
      ]
     },
     "execution_count": 22,
     "metadata": {},
     "output_type": "execute_result"
    },
    {
     "data": {
      "image/png": "[encoded data removed]",
      "text/plain": [
       "<Figure size 640x480 with 1 Axes>"
      ]
     },
     "metadata": {},
     "output_type": "display_data"
    }
   ],
   "source": [
    "plt.figure()\n",
    "plt.plot([x[0] for x in all_losses], [x[1] for x in all_losses])"
   ]
  },
  {
   "cell_type": "markdown",
   "id": "0f1ab72f",
   "metadata": {},
   "source": [
    "# Evaluating on some inputs"
   ]
  },
  {
   "cell_type": "code",
   "execution_count": 23,
   "id": "33a30c5d",
   "metadata": {},
   "outputs": [],
   "source": [
    "def predict(name, n_predictions = 3):\n",
    "    \n",
    "    with torch.no_grad():\n",
    "        \n",
    "        hidden = rnn.initHidden()\n",
    "\n",
    "        input = nameToTensor(name)\n",
    "\n",
    "        output, hidden = rnn(input, hidden)\n",
    "            \n",
    "        top_k = output.topk(3, 0, True)\n",
    "        \n",
    "        top_lang_preds = [langs[index] for index in top_k[1]]\n",
    "        \n",
    "    return top_lang_preds"
   ]
  },
  {
   "cell_type": "code",
   "execution_count": 24,
   "id": "48b11a97",
   "metadata": {},
   "outputs": [
    {
     "name": "stdout",
     "output_type": "stream",
     "text": [
      "Name:  Fukuda\n",
      "Language:  Japanese\n",
      "Predicted languages:  Japanese, Spanish, Czech\n",
      "\n",
      "Name:  Zhikov\n",
      "Language:  Russian\n",
      "Predicted languages:  Russian, Czech, English\n",
      "\n",
      "Name:  Kwak\n",
      "Language:  Korean\n",
      "Predicted languages:  Polish, Korean, Czech\n",
      "\n",
      "Name:  Sasaki\n",
      "Language:  Japanese\n",
      "Predicted languages:  Japanese, Arabic, Polish\n",
      "\n",
      "Name:  Ivor\n",
      "Language:  Irish\n",
      "Predicted languages:  English, German, French\n",
      "\n",
      "Name:  Mikhaleiko\n",
      "Language:  Russian\n",
      "Predicted languages:  Russian, Japanese, Czech\n",
      "\n",
      "Name:  Pazhinsky\n",
      "Language:  Russian\n",
      "Predicted languages:  Russian, Czech, English\n",
      "\n",
      "Name:  Fonseca\n",
      "Language:  Portuguese\n",
      "Predicted languages:  Spanish, Portuguese, Italian\n",
      "\n",
      "Name:  Chu\n",
      "Language:  Vietnamese\n",
      "Predicted languages:  Vietnamese, Chinese, Korean\n",
      "\n",
      "Name:  Horn\n",
      "Language:  English\n",
      "Predicted languages:  Dutch, English, German\n",
      "\n"
     ]
    }
   ],
   "source": [
    "for i in range(10):\n",
    "    lang, name = randomExample()\n",
    "    \n",
    "    preds = predict(name)\n",
    "    \n",
    "    print(\"Name: \", name)\n",
    "    print(\"Language: \", lang)\n",
    "    print(\"Predicted languages: \", \", \".join(preds))\n",
    "    print()"
   ]
  },
  {
   "cell_type": "markdown",
   "id": "c3e61ea0",
   "metadata": {},
   "source": [
    "# Confusion Matrix"
   ]
  },
  {
   "cell_type": "code",
   "execution_count": 25,
   "id": "d98aaa47",
   "metadata": {},
   "outputs": [],
   "source": [
    "confusion = torch.zeros(n_langs, n_langs)\n",
    "n_confusion = 10000"
   ]
  },
  {
   "cell_type": "code",
   "execution_count": 26,
   "id": "e3e073c0",
   "metadata": {},
   "outputs": [],
   "source": [
    "for i in range(n_confusion):\n",
    "    lang, name = randomExample()\n",
    "    \n",
    "    preds = predict(name)\n",
    "    pred = preds[0]\n",
    "    \n",
    "    pred = langs.index(pred)\n",
    "    target = langs.index(lang)\n",
    "    \n",
    "    confusion[target][pred] += 1"
   ]
  },
  {
   "cell_type": "code",
   "execution_count": 27,
   "id": "72a64158",
   "metadata": {},
   "outputs": [],
   "source": [
    "for i in range(n_langs):\n",
    "    confusion[i] /= confusion[i].sum()"
   ]
  },
  {
   "cell_type": "code",
   "execution_count": 28,
   "id": "30541cbc",
   "metadata": {},
   "outputs": [
    {
     "name": "stderr",
     "output_type": "stream",
     "text": [
      "/var/folders/dx/y8znj2hn5sv9_zwtm2h2y_zm0000gn/T/ipykernel_42705/3961177364.py:11: UserWarning: set_ticklabels() should only be used with a fixed number of ticks, i.e. after set_ticks() or using a FixedLocator.\n",
      "  ax.set_xticklabels([''] + langs, rotation=90)\n",
      "/var/folders/dx/y8znj2hn5sv9_zwtm2h2y_zm0000gn/T/ipykernel_42705/3961177364.py:12: UserWarning: set_ticklabels() should only be used with a fixed number of ticks, i.e. after set_ticks() or using a FixedLocator.\n",
      "  ax.set_yticklabels([''] + langs)\n"
     ]
    },
    {
     "data": {
      "image/png": "[encoded data removed]",
      "text/plain": [
       "<Figure size 640x480 with 2 Axes>"
      ]
     },
     "metadata": {},
     "output_type": "display_data"
    }
   ],
   "source": [
    "import matplotlib.pyplot as plt\n",
    "import matplotlib.ticker as ticker\n",
    "\n",
    "# Set up plot\n",
    "fig = plt.figure()\n",
    "ax = fig.add_subplot(111)\n",
    "cax = ax.matshow(confusion.numpy())\n",
    "fig.colorbar(cax)\n",
    "\n",
    "# Set up axes\n",
    "ax.set_xticklabels([''] + langs, rotation=90)\n",
    "ax.set_yticklabels([''] + langs)\n",
    "\n",
    "# Force label at every tick\n",
    "ax.xaxis.set_major_locator(ticker.MultipleLocator(1))\n",
    "ax.yaxis.set_major_locator(ticker.MultipleLocator(1))\n",
    "\n",
    "# sphinx_gallery_thumbnail_number = 2\n",
    "plt.show()"
   ]
  }
 ],
 "metadata": {
  "kernelspec": {
   "display_name": "nlp_from_scratch-kernel",
   "language": "python",
   "name": "nlp_from_scratch-kernel"
  },
  "language_info": {
   "codemirror_mode": {
    "name": "ipython",
    "version": 3
   },
   "file_extension": ".py",
   "mimetype": "text/x-python",
   "name": "python",
   "nbconvert_exporter": "python",
   "pygments_lexer": "ipython3",
   "version": "3.12.2"
  }
 },
 "nbformat": 4,
 "nbformat_minor": 5
}
