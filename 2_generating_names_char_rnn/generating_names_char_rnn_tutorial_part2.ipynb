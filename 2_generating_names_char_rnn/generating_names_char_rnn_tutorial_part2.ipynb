{
 "cells": [
  {
   "cell_type": "markdown",
   "id": "3a94b539",
   "metadata": {},
   "source": [
    "# Import the Data"
   ]
  },
  {
   "cell_type": "code",
   "execution_count": 1,
   "id": "6ca6915e",
   "metadata": {},
   "outputs": [],
   "source": [
    "import unicodedata\n",
    "import glob\n",
    "import os\n",
    "import string\n",
    "import torch\n",
    "import random\n",
    "import matplotlib.pyplot as plt\n",
    "import matplotlib.ticker as ticker\n",
    "\n",
    "all_letters = string.ascii_letters + \" .,;'\"\n",
    "\n",
    "# Turn a Unicode string to plain ASCII, thanks to https://stackoverflow.com/a/518232/2809427\n",
    "def unicodeToAscii(s):\n",
    "    return ''.join(\n",
    "        c for c in unicodedata.normalize('NFD', s)\n",
    "        if unicodedata.category(c) != 'Mn'\n",
    "        and c in all_letters\n",
    "    )\n",
    "\n",
    "# Read a file and split into lines\n",
    "def readLines(filename):\n",
    "    lines = open(filename, encoding='utf-8').read().strip().split('\\n')\n",
    "    return [unicodeToAscii(line) for line in lines]\n",
    "\n",
    "# Build the category_lines dictionary, a list of names per language\n",
    "lang_names = {}\n",
    "\n",
    "def findFiles(path): return glob.glob(path)\n",
    "\n",
    "for filename in findFiles('../data/names/*.txt'):\n",
    "    lang = os.path.splitext(os.path.basename(filename))[0]\n",
    "    names = readLines(filename)\n",
    "    lang_names[lang] = names"
   ]
  },
  {
   "cell_type": "markdown",
   "id": "750f4466",
   "metadata": {},
   "source": [
    "# Encode data into numerical tensors"
   ]
  },
  {
   "cell_type": "code",
   "execution_count": 2,
   "id": "86f731c4",
   "metadata": {},
   "outputs": [],
   "source": [
    "idx2char = dict(enumerate(list(all_letters) + [\"<EOS>\"]))"
   ]
  },
  {
   "cell_type": "code",
   "execution_count": 3,
   "id": "4161ba05",
   "metadata": {},
   "outputs": [],
   "source": [
    "char2idx = {j:i for i,j in idx2char.items()}"
   ]
  },
  {
   "cell_type": "code",
   "execution_count": 4,
   "id": "b9debff0",
   "metadata": {},
   "outputs": [],
   "source": [
    "n_vocab = len(idx2char.keys())"
   ]
  },
  {
   "cell_type": "code",
   "execution_count": 5,
   "id": "84af4490",
   "metadata": {},
   "outputs": [],
   "source": [
    "langs = list(lang_names.keys())"
   ]
  },
  {
   "cell_type": "code",
   "execution_count": 6,
   "id": "687b7c09",
   "metadata": {},
   "outputs": [],
   "source": [
    "idx2lang = dict(enumerate(langs))"
   ]
  },
  {
   "cell_type": "code",
   "execution_count": 7,
   "id": "78a91054",
   "metadata": {},
   "outputs": [],
   "source": [
    "lang2idx = {j:i for i,j in idx2lang.items()}"
   ]
  },
  {
   "cell_type": "code",
   "execution_count": 8,
   "id": "a8c81de7",
   "metadata": {},
   "outputs": [],
   "source": [
    "n_langs = len(langs)"
   ]
  },
  {
   "cell_type": "code",
   "execution_count": 9,
   "id": "c577a032",
   "metadata": {},
   "outputs": [],
   "source": [
    "def langToTensor(lang):\n",
    "    tensor = torch.zeros(1, n_langs)\n",
    "    tensor[0][lang2idx[lang]] = 1\n",
    "    return tensor"
   ]
  },
  {
   "cell_type": "code",
   "execution_count": 10,
   "id": "9fd8c7c1",
   "metadata": {},
   "outputs": [],
   "source": [
    "def nameToTensor(name):\n",
    "    tensor = torch.zeros(len(name) + 1, n_vocab)\n",
    "    \n",
    "    tensor[0][char2idx[\"<EOS>\"]] = 1\n",
    "\n",
    "    for i, char in enumerate(name):\n",
    "        tensor[i + 1][char2idx[char]] = 1\n",
    "    return tensor"
   ]
  },
  {
   "cell_type": "code",
   "execution_count": 11,
   "id": "c0bdede9",
   "metadata": {},
   "outputs": [],
   "source": [
    "def nameToTarget(name):\n",
    "    name = list(name) + [\"<EOS>\"]\n",
    "    tensor = [char2idx[i] for i in name]\n",
    "    tensor = torch.tensor(tensor)\n",
    "    return tensor"
   ]
  },
  {
   "cell_type": "markdown",
   "id": "f41b6ee4",
   "metadata": {},
   "source": [
    "# Define the Neural Network"
   ]
  },
  {
   "cell_type": "code",
   "execution_count": 66,
   "id": "18f3379e",
   "metadata": {},
   "outputs": [],
   "source": [
    "import torch.nn as nn\n",
    "\n",
    "class RNN(nn.Module):\n",
    "    def __init__(self, input_size, hidden_size, output_size):\n",
    "        super(RNN, self).__init__()\n",
    "        \n",
    "        self.hidden_size = hidden_size\n",
    "        self.rnn = nn.RNN(input_size + n_langs, hidden_size)\n",
    "        self.o2o = nn.Linear(hidden_size, output_size)\n",
    "        self.softmax = nn.LogSoftmax(dim = 1)\n",
    "    \n",
    "    def forward(self, input, hidden, lang):\n",
    "        lang = lang.repeat(input.size()[0],1)\n",
    "        combined = torch.cat([input, lang], dim = 1)\n",
    "        output, hidden = self.rnn(combined, hidden)\n",
    "        output = self.o2o(output)\n",
    "        output = self.softmax(output)\n",
    "        return output, hidden\n",
    "    \n",
    "    def initHidden(self):\n",
    "        return torch.zeros(1, self.hidden_size)\n",
    "    \n",
    "class GRU(nn.Module):\n",
    "    def __init__(self, input_size, hidden_size, output_size):\n",
    "        super(GRU, self).__init__()\n",
    "        \n",
    "        self.hidden_size = hidden_size\n",
    "        self.rnn = nn.GRU(input_size + n_langs, hidden_size)\n",
    "        self.o2o = nn.Linear(hidden_size, output_size)\n",
    "        self.softmax = nn.LogSoftmax(dim = 1)\n",
    "    \n",
    "    def forward(self, input, hidden, lang):\n",
    "        lang = lang.repeat(input.size()[0],1)\n",
    "        combined = torch.cat([input, lang], dim = 1)\n",
    "        output, hidden = self.rnn(combined, hidden)\n",
    "        output = self.o2o(output)\n",
    "        output = self.softmax(output)\n",
    "        return output, hidden\n",
    "    \n",
    "    def initHidden(self):\n",
    "        return torch.zeros(1, self.hidden_size)\n",
    "\n",
    "class LSTM(nn.Module):\n",
    "    def __init__(self, input_size, hidden_size, output_size):\n",
    "        super(LSTM, self).__init__()\n",
    "        \n",
    "        self.hidden_size = hidden_size\n",
    "        self.rnn = nn.LSTM(input_size + n_langs, hidden_size)\n",
    "        self.o2o = nn.Linear(hidden_size, output_size)\n",
    "        self.softmax = nn.LogSoftmax(dim = 1)\n",
    "    \n",
    "    def forward(self, input, hidden, lang):\n",
    "        lang = lang.repeat(input.size()[0],1)\n",
    "        combined = torch.cat([input, lang], dim = 1)\n",
    "        output, hidden = self.rnn(combined, hidden)\n",
    "        output = self.o2o(output)\n",
    "        output = self.softmax(output)\n",
    "        return output, hidden\n",
    "    \n",
    "    def initHidden(self):\n",
    "        return (torch.zeros(1, self.hidden_size), torch.zeros(1, self.hidden_size))"
   ]
  },
  {
   "cell_type": "code",
   "execution_count": 67,
   "id": "afd21e6c",
   "metadata": {},
   "outputs": [],
   "source": [
    "langs = list(lang_names.keys())"
   ]
  },
  {
   "cell_type": "code",
   "execution_count": 68,
   "id": "99187648",
   "metadata": {},
   "outputs": [],
   "source": [
    "n_langs = len(langs)"
   ]
  },
  {
   "cell_type": "code",
   "execution_count": 69,
   "id": "7de978ef",
   "metadata": {},
   "outputs": [],
   "source": [
    "n_hidden = 128"
   ]
  },
  {
   "cell_type": "code",
   "execution_count": 70,
   "id": "165d1cb7",
   "metadata": {},
   "outputs": [],
   "source": [
    "rnn = LSTM(input_size = n_vocab, hidden_size = n_hidden, output_size = n_vocab)"
   ]
  },
  {
   "cell_type": "markdown",
   "id": "bd265a7b",
   "metadata": {},
   "source": [
    "# Pass an example through our Neural Network"
   ]
  },
  {
   "cell_type": "code",
   "execution_count": 71,
   "id": "f9ee9e06",
   "metadata": {},
   "outputs": [],
   "source": [
    "name = \"Smith\"\n",
    "name_tensor = nameToTensor(name)\n",
    "lang = \"English\"\n",
    "lang_tensor = langToTensor(lang)\n",
    "target = nameToTarget(name)"
   ]
  },
  {
   "cell_type": "code",
   "execution_count": 72,
   "id": "192c440c",
   "metadata": {},
   "outputs": [],
   "source": [
    "hidden = rnn.initHidden()"
   ]
  },
  {
   "cell_type": "code",
   "execution_count": 73,
   "id": "3cd1e9af",
   "metadata": {},
   "outputs": [
    {
     "data": {
      "text/plain": [
       "tensor([44, 12,  8, 19,  7, 57])"
      ]
     },
     "execution_count": 73,
     "metadata": {},
     "output_type": "execute_result"
    }
   ],
   "source": [
    "target"
   ]
  },
  {
   "cell_type": "code",
   "execution_count": 74,
   "id": "c46ebe21",
   "metadata": {},
   "outputs": [
    {
     "data": {
      "text/plain": [
       "tensor([[0., 0., 0., 0., 0., 0., 0., 0., 0., 0., 0., 0., 0., 0., 0., 0., 0., 0.,\n",
       "         0., 0., 0., 0., 0., 0., 0., 0., 0., 0., 0., 0., 0., 0., 0., 0., 0., 0.,\n",
       "         0., 0., 0., 0., 0., 0., 0., 0., 0., 0., 0., 0., 0., 0., 0., 0., 0., 0.,\n",
       "         0., 0., 0., 1.],\n",
       "        [0., 0., 0., 0., 0., 0., 0., 0., 0., 0., 0., 0., 0., 0., 0., 0., 0., 0.,\n",
       "         0., 0., 0., 0., 0., 0., 0., 0., 0., 0., 0., 0., 0., 0., 0., 0., 0., 0.,\n",
       "         0., 0., 0., 0., 0., 0., 0., 0., 1., 0., 0., 0., 0., 0., 0., 0., 0., 0.,\n",
       "         0., 0., 0., 0.],\n",
       "        [0., 0., 0., 0., 0., 0., 0., 0., 0., 0., 0., 0., 1., 0., 0., 0., 0., 0.,\n",
       "         0., 0., 0., 0., 0., 0., 0., 0., 0., 0., 0., 0., 0., 0., 0., 0., 0., 0.,\n",
       "         0., 0., 0., 0., 0., 0., 0., 0., 0., 0., 0., 0., 0., 0., 0., 0., 0., 0.,\n",
       "         0., 0., 0., 0.],\n",
       "        [0., 0., 0., 0., 0., 0., 0., 0., 1., 0., 0., 0., 0., 0., 0., 0., 0., 0.,\n",
       "         0., 0., 0., 0., 0., 0., 0., 0., 0., 0., 0., 0., 0., 0., 0., 0., 0., 0.,\n",
       "         0., 0., 0., 0., 0., 0., 0., 0., 0., 0., 0., 0., 0., 0., 0., 0., 0., 0.,\n",
       "         0., 0., 0., 0.],\n",
       "        [0., 0., 0., 0., 0., 0., 0., 0., 0., 0., 0., 0., 0., 0., 0., 0., 0., 0.,\n",
       "         0., 1., 0., 0., 0., 0., 0., 0., 0., 0., 0., 0., 0., 0., 0., 0., 0., 0.,\n",
       "         0., 0., 0., 0., 0., 0., 0., 0., 0., 0., 0., 0., 0., 0., 0., 0., 0., 0.,\n",
       "         0., 0., 0., 0.],\n",
       "        [0., 0., 0., 0., 0., 0., 0., 1., 0., 0., 0., 0., 0., 0., 0., 0., 0., 0.,\n",
       "         0., 0., 0., 0., 0., 0., 0., 0., 0., 0., 0., 0., 0., 0., 0., 0., 0., 0.,\n",
       "         0., 0., 0., 0., 0., 0., 0., 0., 0., 0., 0., 0., 0., 0., 0., 0., 0., 0.,\n",
       "         0., 0., 0., 0.]])"
      ]
     },
     "execution_count": 74,
     "metadata": {},
     "output_type": "execute_result"
    }
   ],
   "source": [
    "name_tensor"
   ]
  },
  {
   "cell_type": "code",
   "execution_count": 75,
   "id": "e8f5a574",
   "metadata": {},
   "outputs": [],
   "source": [
    "outputs, hidden = rnn(name_tensor, hidden, lang_tensor)"
   ]
  },
  {
   "cell_type": "code",
   "execution_count": 76,
   "id": "52209183",
   "metadata": {},
   "outputs": [],
   "source": [
    "criterion = nn.NLLLoss()"
   ]
  },
  {
   "cell_type": "code",
   "execution_count": 77,
   "id": "437f2307",
   "metadata": {},
   "outputs": [
    {
     "data": {
      "text/plain": [
       "tensor([44, 12,  8, 19,  7, 57])"
      ]
     },
     "execution_count": 77,
     "metadata": {},
     "output_type": "execute_result"
    }
   ],
   "source": [
    "target"
   ]
  },
  {
   "cell_type": "code",
   "execution_count": 78,
   "id": "77bb5ae6",
   "metadata": {},
   "outputs": [],
   "source": [
    "loss = criterion(outputs[1], target[1])"
   ]
  },
  {
   "cell_type": "code",
   "execution_count": 79,
   "id": "3ba28c58",
   "metadata": {},
   "outputs": [
    {
     "data": {
      "text/plain": [
       "tensor(3.9955, grad_fn=<NllLossBackward0>)"
      ]
     },
     "execution_count": 79,
     "metadata": {},
     "output_type": "execute_result"
    }
   ],
   "source": [
    "loss"
   ]
  },
  {
   "cell_type": "markdown",
   "id": "2892a2a4",
   "metadata": {},
   "source": [
    "# Train our NN"
   ]
  },
  {
   "cell_type": "code",
   "execution_count": 80,
   "id": "a7df9b73",
   "metadata": {},
   "outputs": [],
   "source": [
    "def randomExample():\n",
    "    lang = random.sample(langs, 1)[0]\n",
    "    name = random.sample(lang_names[lang], 1)[0]\n",
    "    return lang, name"
   ]
  },
  {
   "cell_type": "code",
   "execution_count": 81,
   "id": "fc775b9e",
   "metadata": {},
   "outputs": [
    {
     "name": "stdout",
     "output_type": "stream",
     "text": [
      "Iterations:  1000\n",
      "Average loss:  3.3873\n",
      "Iterations:  2000\n",
      "Average loss:  3.0685\n",
      "Iterations:  3000\n",
      "Average loss:  3.0231\n",
      "Iterations:  4000\n",
      "Average loss:  2.9683\n",
      "Iterations:  5000\n",
      "Average loss:  2.8984\n",
      "Iterations:  6000\n",
      "Average loss:  2.8205\n",
      "Iterations:  7000\n",
      "Average loss:  2.7786\n",
      "Iterations:  8000\n",
      "Average loss:  2.7212\n",
      "Iterations:  9000\n",
      "Average loss:  2.6571\n",
      "Iterations:  10000\n",
      "Average loss:  2.5836\n",
      "Iterations:  11000\n",
      "Average loss:  2.5529\n",
      "Iterations:  12000\n",
      "Average loss:  2.5188\n",
      "Iterations:  13000\n",
      "Average loss:  2.4967\n",
      "Iterations:  14000\n",
      "Average loss:  2.4822\n",
      "Iterations:  15000\n",
      "Average loss:  2.4607\n",
      "Iterations:  16000\n",
      "Average loss:  2.4362\n",
      "Iterations:  17000\n",
      "Average loss:  2.4238\n",
      "Iterations:  18000\n",
      "Average loss:  2.4042\n",
      "Iterations:  19000\n",
      "Average loss:  2.4013\n",
      "Iterations:  20000\n",
      "Average loss:  2.3922\n",
      "Iterations:  21000\n",
      "Average loss:  2.3884\n",
      "Iterations:  22000\n",
      "Average loss:  2.3466\n",
      "Iterations:  23000\n",
      "Average loss:  2.3436\n",
      "Iterations:  24000\n",
      "Average loss:  2.313\n",
      "Iterations:  25000\n",
      "Average loss:  2.3132\n",
      "Iterations:  26000\n",
      "Average loss:  2.3162\n",
      "Iterations:  27000\n",
      "Average loss:  2.2855\n",
      "Iterations:  28000\n",
      "Average loss:  2.2956\n",
      "Iterations:  29000\n",
      "Average loss:  2.2689\n",
      "Iterations:  30000\n",
      "Average loss:  2.2608\n",
      "Iterations:  31000\n",
      "Average loss:  2.274\n",
      "Iterations:  32000\n",
      "Average loss:  2.2776\n",
      "Iterations:  33000\n",
      "Average loss:  2.2511\n",
      "Iterations:  34000\n",
      "Average loss:  2.2319\n",
      "Iterations:  35000\n",
      "Average loss:  2.226\n",
      "Iterations:  36000\n",
      "Average loss:  2.2445\n",
      "Iterations:  37000\n",
      "Average loss:  2.2066\n",
      "Iterations:  38000\n",
      "Average loss:  2.2375\n",
      "Iterations:  39000\n",
      "Average loss:  2.1876\n",
      "Iterations:  40000\n",
      "Average loss:  2.2064\n",
      "Iterations:  41000\n",
      "Average loss:  2.1741\n",
      "Iterations:  42000\n",
      "Average loss:  2.193\n",
      "Iterations:  43000\n",
      "Average loss:  2.1961\n",
      "Iterations:  44000\n",
      "Average loss:  2.1828\n",
      "Iterations:  45000\n",
      "Average loss:  2.1627\n",
      "Iterations:  46000\n",
      "Average loss:  2.1536\n",
      "Iterations:  47000\n",
      "Average loss:  2.1571\n",
      "Iterations:  48000\n",
      "Average loss:  2.1392\n",
      "Iterations:  49000\n",
      "Average loss:  2.1212\n",
      "Iterations:  50000\n",
      "Average loss:  2.1363\n",
      "Iterations:  51000\n",
      "Average loss:  2.1352\n",
      "Iterations:  52000\n",
      "Average loss:  2.1206\n",
      "Iterations:  53000\n",
      "Average loss:  2.111\n",
      "Iterations:  54000\n",
      "Average loss:  2.0827\n",
      "Iterations:  55000\n",
      "Average loss:  2.0963\n",
      "Iterations:  56000\n",
      "Average loss:  2.0787\n",
      "Iterations:  57000\n",
      "Average loss:  2.0851\n",
      "Iterations:  58000\n",
      "Average loss:  2.0882\n",
      "Iterations:  59000\n",
      "Average loss:  2.0994\n",
      "Iterations:  60000\n",
      "Average loss:  2.0685\n",
      "Iterations:  61000\n",
      "Average loss:  2.0711\n",
      "Iterations:  62000\n",
      "Average loss:  2.0572\n",
      "Iterations:  63000\n",
      "Average loss:  2.0507\n",
      "Iterations:  64000\n",
      "Average loss:  2.0642\n",
      "Iterations:  65000\n",
      "Average loss:  2.0173\n",
      "Iterations:  66000\n",
      "Average loss:  2.0362\n",
      "Iterations:  67000\n",
      "Average loss:  2.0507\n",
      "Iterations:  68000\n",
      "Average loss:  2.0406\n",
      "Iterations:  69000\n",
      "Average loss:  2.018\n",
      "Iterations:  70000\n",
      "Average loss:  2.0089\n",
      "Iterations:  71000\n",
      "Average loss:  2.0083\n",
      "Iterations:  72000\n",
      "Average loss:  2.0138\n",
      "Iterations:  73000\n",
      "Average loss:  2.0121\n",
      "Iterations:  74000\n",
      "Average loss:  2.0155\n",
      "Iterations:  75000\n",
      "Average loss:  2.0014\n",
      "Iterations:  76000\n",
      "Average loss:  1.9976\n",
      "Iterations:  77000\n",
      "Average loss:  1.9694\n",
      "Iterations:  78000\n",
      "Average loss:  1.9769\n",
      "Iterations:  79000\n",
      "Average loss:  1.9722\n",
      "Iterations:  80000\n",
      "Average loss:  1.9608\n",
      "Iterations:  81000\n",
      "Average loss:  1.9586\n",
      "Iterations:  82000\n",
      "Average loss:  1.9623\n",
      "Iterations:  83000\n",
      "Average loss:  1.9519\n",
      "Iterations:  84000\n",
      "Average loss:  1.9791\n",
      "Iterations:  85000\n",
      "Average loss:  1.9632\n",
      "Iterations:  86000\n",
      "Average loss:  1.9519\n",
      "Iterations:  87000\n",
      "Average loss:  1.9482\n",
      "Iterations:  88000\n",
      "Average loss:  1.9474\n",
      "Iterations:  89000\n",
      "Average loss:  1.9185\n",
      "Iterations:  90000\n",
      "Average loss:  1.9193\n",
      "Iterations:  91000\n",
      "Average loss:  1.9194\n",
      "Iterations:  92000\n",
      "Average loss:  1.9372\n",
      "Iterations:  93000\n",
      "Average loss:  1.8824\n",
      "Iterations:  94000\n",
      "Average loss:  1.9213\n",
      "Iterations:  95000\n",
      "Average loss:  1.9023\n",
      "Iterations:  96000\n",
      "Average loss:  1.9052\n",
      "Iterations:  97000\n",
      "Average loss:  1.8945\n",
      "Iterations:  98000\n",
      "Average loss:  1.9074\n",
      "Iterations:  99000\n",
      "Average loss:  1.9\n",
      "Iterations:  100000\n",
      "Average loss:  1.9118\n"
     ]
    }
   ],
   "source": [
    "n_iters = 100000\n",
    "learning_rate = 0.005\n",
    "\n",
    "all_losses = []\n",
    "\n",
    "avg_loss = 0\n",
    "n_checkpoint = 1000\n",
    "for i in range(1, n_iters + 1):\n",
    "    \n",
    "    # Initialize hidden state\n",
    "    hidden = rnn.initHidden()\n",
    "    \n",
    "    rnn.zero_grad()\n",
    "    \n",
    "    lang, name = randomExample()\n",
    "    \n",
    "    input = nameToTensor(name)\n",
    "    lang_tensor = langToTensor(lang)\n",
    "    target = nameToTarget(name)\n",
    "    \n",
    "    loss = torch.Tensor([0])\n",
    "    \n",
    "    outputs, hidden = rnn(input, hidden, lang_tensor)\n",
    "    \n",
    "    for j in range(input.size()[0]):\n",
    "        l = criterion(outputs[j], target[j])\n",
    "        loss += l\n",
    "    \n",
    "    loss.backward()\n",
    "    \n",
    "    loss /= input.size()[0]\n",
    "    \n",
    "    avg_loss += loss\n",
    "        \n",
    "    if i % n_checkpoint == 0:\n",
    "        avg_loss /= n_checkpoint\n",
    "        print(\"Iterations: \", i)\n",
    "        print(\"Average loss: \", round(avg_loss.item(), 4))\n",
    "        \n",
    "        all_losses.append((i, round(avg_loss.item(), 4)))\n",
    "        \n",
    "        avg_loss = 0\n",
    "    \n",
    "    for p in rnn.parameters():\n",
    "        p.data.add_(p.grad.data, alpha = -learning_rate)"
   ]
  },
  {
   "cell_type": "markdown",
   "id": "f4d92fec",
   "metadata": {},
   "source": [
    "# Plot the learning curve"
   ]
  },
  {
   "cell_type": "code",
   "execution_count": 82,
   "id": "ede820c8",
   "metadata": {},
   "outputs": [
    {
     "data": {
      "text/plain": [
       "[<matplotlib.lines.Line2D at 0x16b77da00>]"
      ]
     },
     "execution_count": 82,
     "metadata": {},
     "output_type": "execute_result"
    },
    {
     "data": {
      "image/png": "[encoded data removed]",
      "text/plain": [
       "<Figure size 640x480 with 1 Axes>"
      ]
     },
     "metadata": {},
     "output_type": "display_data"
    }
   ],
   "source": [
    "plt.figure()\n",
    "plt.plot([x[0] for x in all_losses], [x[1] for x in all_losses])"
   ]
  },
  {
   "cell_type": "markdown",
   "id": "0f1ab72f",
   "metadata": {},
   "source": [
    "# Evaluating on some inputs"
   ]
  },
  {
   "cell_type": "code",
   "execution_count": null,
   "id": "4152f2c7",
   "metadata": {},
   "outputs": [],
   "source": [
    "input = nameToTensor(\"Smith\")\n",
    "outputs, hidden = rnn(input, hidden, lang_tensor)"
   ]
  },
  {
   "cell_type": "code",
   "execution_count": null,
   "id": "8db684db",
   "metadata": {},
   "outputs": [],
   "source": [
    "def predict(starting_letters, lang):\n",
    "    predicted_name = starting_letters\n",
    "\n",
    "    hidden = rnn.initHidden()\n",
    "    lang_tensor = langToTensor(lang)\n",
    "    \n",
    "    # Pass through the SOS token as the first input\n",
    "    input = nameToTensor(starting_letters)\n",
    "    outputs, hidden = rnn(input, hidden, lang_tensor)\n",
    "    \n",
    "    output = outputs[-1:, :]\n",
    "\n",
    "    val, idx = output[0].topk(3, 0, True)\n",
    "    next_letter = idx2char[idx[0].item()]\n",
    "    \n",
    "    if next_letter == \"<EOS>\":\n",
    "        return predicted_name\n",
    "            \n",
    "    predicted_name += next_letter\n",
    "    input = nameToTensor(next_letter)[-1:, :]\n",
    "\n",
    "    max_length = 20\n",
    "    for i in range(len(starting_letters), max_length):\n",
    "        outputs, hidden = rnn(input, hidden, lang_tensor)\n",
    "        \n",
    "        output = outputs[-1:, :]\n",
    "\n",
    "        val, idx = output[0].topk(3, 0, True)\n",
    "        next_letter = idx2char[idx[0].item()]\n",
    "\n",
    "        if next_letter == \"<EOS>\":\n",
    "            break\n",
    "        else:\n",
    "            predicted_name += next_letter\n",
    "            input = nameToTensor(next_letter)[-1:, :]\n",
    "    return predicted_name"
   ]
  },
  {
   "cell_type": "code",
   "execution_count": null,
   "id": "eceaf206",
   "metadata": {},
   "outputs": [],
   "source": [
    "predict(starting_letters = \"\", lang = \"Chinese\")"
   ]
  },
  {
   "cell_type": "code",
   "execution_count": null,
   "id": "174934f3",
   "metadata": {},
   "outputs": [],
   "source": [
    "letters = \"\"\n",
    "print(\"Starting Letters: \", letters)\n",
    "for lang in langs:\n",
    "    print(\"Language: \", lang)\n",
    "    predicted_name = predict(starting_letters = letters, lang = lang)\n",
    "    print(\"Predicted Name: \", predicted_name)\n",
    "    print()"
   ]
  },
  {
   "cell_type": "code",
   "execution_count": null,
   "id": "e35e489c",
   "metadata": {},
   "outputs": [],
   "source": []
  }
 ],
 "metadata": {
  "kernelspec": {
   "display_name": "nlp_from_scratch-kernel",
   "language": "python",
   "name": "nlp_from_scratch-kernel"
  },
  "language_info": {
   "codemirror_mode": {
    "name": "ipython",
    "version": 3
   },
   "file_extension": ".py",
   "mimetype": "text/x-python",
   "name": "python",
   "nbconvert_exporter": "python",
   "pygments_lexer": "ipython3",
   "version": "3.12.2"
  }
 },
 "nbformat": 4,
 "nbformat_minor": 5
}
